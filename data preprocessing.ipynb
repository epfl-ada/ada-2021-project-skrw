{
 "cells": [
  {
   "cell_type": "code",
   "execution_count": 3,
   "id": "5a8f8f7f-9d10-4a76-8783-eb18a5bdc9dd",
   "metadata": {},
   "outputs": [],
   "source": [
    "from tld import get_tld\n",
    "import bz2\n",
    "import json\n",
    "import pandas as pd\n",
    "import multiprocessing \n"
   ]
  },
  {
   "cell_type": "code",
   "execution_count": 19,
   "id": "53eaee8f-b48e-4fd4-8e5b-8b63bdc0ba71",
   "metadata": {},
   "outputs": [
    {
     "name": "stdout",
     "output_type": "stream",
     "text": [
      "... an Afrikaans family living in South Africa's Free State region, an isolated white stronghold, in the waning days of apartheid.\n"
     ]
    }
   ],
   "source": [
    "filename = '/media/shanci/DataDisk/ada_quotebank/quotes-2019.json.bz2' \n",
    "\n",
    "with pd.read_json(filename, lines=True, compression='bz2', chunksize=100) as df_reader:\n",
    "    for chunk in df_reader:\n",
    "        print(chunk.quotation[4])\n",
    "        break"
   ]
  },
  {
   "cell_type": "code",
   "execution_count": 22,
   "id": "870aa845-62d2-4168-b853-d0c5424ada3a",
   "metadata": {},
   "outputs": [],
   "source": [
    "filename = '/media/shanci/DataDisk/ada_quotebank/quotes-2019.json.bz2' \n",
    "\n",
    "\n",
    "def process_chunk(chunk, idx):\n",
    "    chunk['date'] = chunk.date.apply(lambda x: x.date())  \n",
    "    transformed = chunk.groupby('date')['quotation'].apply(lambda x:x.str.cat(sep=' ')).reset_index()\n",
    "        \n",
    "    transformed.to_json('/media/shanci/DataDisk/ada_quotebank/chunk_{}.json'.format(idx))\n",
    "\n",
    "with pd.read_json(filename, lines=True, compression='bz2', chunksize=1000000) as df_reader:\n",
    "    for idx, chunk in enumerate(df_reader):\n",
    "        process_chunk(chunk, idx)"
   ]
  },
  {
   "cell_type": "code",
   "execution_count": null,
   "id": "26e03638-e5ff-45cb-8ec3-a6ffe8b31202",
   "metadata": {},
   "outputs": [],
   "source": [
    "%%time\n",
    "filename = '/media/shanci/DataDisk/ada_quotebank/quotes-2019-domains.json.bz2'\n",
    "\n",
    "\n",
    "def process_chunk(chunk):\n",
    "        print(f'Processing chunk with {len(chunk)} rows')\n",
    "        print(chunk.columns)\n",
    "\n",
    "with pd.read_json(filename, lines=True, compression='bz2', chunksize=1000000) as df_reader:\n",
    "    for chunk in df_reader:\n",
    "        process_chunk(chunk)"
   ]
  }
 ],
 "metadata": {
  "kernelspec": {
   "display_name": "Python 3 (ipykernel)",
   "language": "python",
   "name": "python3"
  },
  "language_info": {
   "codemirror_mode": {
    "name": "ipython",
    "version": 3
   },
   "file_extension": ".py",
   "mimetype": "text/x-python",
   "name": "python",
   "nbconvert_exporter": "python",
   "pygments_lexer": "ipython3",
   "version": "3.8.0"
  }
 },
 "nbformat": 4,
 "nbformat_minor": 5
}
