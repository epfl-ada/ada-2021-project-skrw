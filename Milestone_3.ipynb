{
 "cells": [
  {
   "cell_type": "markdown",
   "metadata": {},
   "source": [
    "# Quotations Behind Brexit"
   ]
  },
  {
   "cell_type": "markdown",
   "metadata": {},
   "source": [
    "Brexit (a portmanteau of \"British exit\") was the withdrawal of the United Kingdom (UK) from the European Union (EU) at 23:00 GMT on 31 January 2020 (00:00 CET). The UK is the first and so far the only member state to have left the EU, after 47 years of having been a part of the union — the EU and its predecessor the European Communities (EC), which included the European Economic Community — since 1 January 1973.\n",
    "Actually, the United Kindom was considering about exiting the EU ever since 2016. After several referendums and negotiations between UK-EU, they finally exit the EU in early January, 2020. And the withdrawl aggrement finally came into force on 31 January 2020.\n",
    "In our project, we would like to dive into quotations talking about the Brexit and analyze information behind these quotations to learn about people's attitude through the whole event."
   ]
  },
  {
   "cell_type": "code",
   "execution_count": 1,
   "metadata": {},
   "outputs": [],
   "source": [
    "import pandas as pd\n",
    "import seaborn as sns\n",
    "import matplotlib.pyplot as plt"
   ]
  },
  {
   "cell_type": "code",
   "execution_count": 3,
   "metadata": {},
   "outputs": [
    {
     "data": {
      "text/html": [
       "<div>\n",
       "<style scoped>\n",
       "    .dataframe tbody tr th:only-of-type {\n",
       "        vertical-align: middle;\n",
       "    }\n",
       "\n",
       "    .dataframe tbody tr th {\n",
       "        vertical-align: top;\n",
       "    }\n",
       "\n",
       "    .dataframe thead th {\n",
       "        text-align: right;\n",
       "    }\n",
       "</style>\n",
       "<table border=\"1\" class=\"dataframe\">\n",
       "  <thead>\n",
       "    <tr style=\"text-align: right;\">\n",
       "      <th></th>\n",
       "      <th>date</th>\n",
       "      <th>quotation</th>\n",
       "      <th>speaker</th>\n",
       "      <th>qids</th>\n",
       "      <th>probas</th>\n",
       "      <th>speaker_qid</th>\n",
       "      <th>date_of_birth</th>\n",
       "      <th>nationality</th>\n",
       "      <th>gender</th>\n",
       "      <th>occupation</th>\n",
       "      <th>label</th>\n",
       "      <th>age</th>\n",
       "    </tr>\n",
       "  </thead>\n",
       "  <tbody>\n",
       "    <tr>\n",
       "      <th>0</th>\n",
       "      <td>2016-09-07</td>\n",
       "      <td>Corbyn shows his true colours. Rather than att...</td>\n",
       "      <td>Tim Farron</td>\n",
       "      <td>['Q304251']</td>\n",
       "      <td>[['Tim Farron', '0.8865'], ['None', '0.0683'],...</td>\n",
       "      <td>Q304251</td>\n",
       "      <td>+1970-05-27T00:00:00Z</td>\n",
       "      <td>['United Kingdom']</td>\n",
       "      <td>['male']</td>\n",
       "      <td>['politician']</td>\n",
       "      <td>Tim Farron</td>\n",
       "      <td>51.0</td>\n",
       "    </tr>\n",
       "    <tr>\n",
       "      <th>1</th>\n",
       "      <td>2016-08-11</td>\n",
       "      <td>People are nervous and universities are being ...</td>\n",
       "      <td>Steve Smith</td>\n",
       "      <td>['Q11894442', 'Q16885757', 'Q23418614', 'Q2347...</td>\n",
       "      <td>[['Steve Smith', '0.887'], ['None', '0.113']]</td>\n",
       "      <td>Q11894442</td>\n",
       "      <td>+1981-07-28T00:00:00Z</td>\n",
       "      <td>['United States of America']</td>\n",
       "      <td>['male']</td>\n",
       "      <td>['basketball player']</td>\n",
       "      <td>Steve Smith</td>\n",
       "      <td>40.0</td>\n",
       "    </tr>\n",
       "    <tr>\n",
       "      <th>2</th>\n",
       "      <td>2016-07-05</td>\n",
       "      <td>best placed to help forge a great post Brexit ...</td>\n",
       "      <td>Boris Johnson</td>\n",
       "      <td>['Q180589']</td>\n",
       "      <td>[['Boris Johnson', '0.7713'], ['Andrea Leadsom...</td>\n",
       "      <td>Q180589</td>\n",
       "      <td>+1964-06-19T00:00:00Z</td>\n",
       "      <td>['United States of America', 'United Kingdom']</td>\n",
       "      <td>['male']</td>\n",
       "      <td>['journalist', 'politician', 'editor', 'writer...</td>\n",
       "      <td>Boris Johnson</td>\n",
       "      <td>57.0</td>\n",
       "    </tr>\n",
       "    <tr>\n",
       "      <th>3</th>\n",
       "      <td>2016-12-14</td>\n",
       "      <td>In the run-up to the Brexit vote earlier this ...</td>\n",
       "      <td>Janet Yellen</td>\n",
       "      <td>['Q263725']</td>\n",
       "      <td>[['Janet Yellen', '0.6759'], ['None', '0.3241']]</td>\n",
       "      <td>Q263725</td>\n",
       "      <td>+1946-08-13T00:00:00Z</td>\n",
       "      <td>['United States of America']</td>\n",
       "      <td>['female']</td>\n",
       "      <td>['economist', 'professor', 'banker', 'politici...</td>\n",
       "      <td>Janet Yellen</td>\n",
       "      <td>75.0</td>\n",
       "    </tr>\n",
       "    <tr>\n",
       "      <th>4</th>\n",
       "      <td>2016-07-25</td>\n",
       "      <td>On the issue of Brexit, I speak for the people...</td>\n",
       "      <td>Martin McGuinness</td>\n",
       "      <td>['Q57689']</td>\n",
       "      <td>[['Martin McGuinness', '0.924'], ['None', '0.0...</td>\n",
       "      <td>Q57689</td>\n",
       "      <td>+1950-05-23T00:00:00Z</td>\n",
       "      <td>['Ireland']</td>\n",
       "      <td>['male']</td>\n",
       "      <td>['politician']</td>\n",
       "      <td>Martin McGuinness</td>\n",
       "      <td>71.0</td>\n",
       "    </tr>\n",
       "  </tbody>\n",
       "</table>\n",
       "</div>"
      ],
      "text/plain": [
       "         date                                          quotation  \\\n",
       "0  2016-09-07  Corbyn shows his true colours. Rather than att...   \n",
       "1  2016-08-11  People are nervous and universities are being ...   \n",
       "2  2016-07-05  best placed to help forge a great post Brexit ...   \n",
       "3  2016-12-14  In the run-up to the Brexit vote earlier this ...   \n",
       "4  2016-07-25  On the issue of Brexit, I speak for the people...   \n",
       "\n",
       "             speaker                                               qids  \\\n",
       "0         Tim Farron                                        ['Q304251']   \n",
       "1        Steve Smith  ['Q11894442', 'Q16885757', 'Q23418614', 'Q2347...   \n",
       "2      Boris Johnson                                        ['Q180589']   \n",
       "3       Janet Yellen                                        ['Q263725']   \n",
       "4  Martin McGuinness                                         ['Q57689']   \n",
       "\n",
       "                                              probas speaker_qid  \\\n",
       "0  [['Tim Farron', '0.8865'], ['None', '0.0683'],...     Q304251   \n",
       "1      [['Steve Smith', '0.887'], ['None', '0.113']]   Q11894442   \n",
       "2  [['Boris Johnson', '0.7713'], ['Andrea Leadsom...     Q180589   \n",
       "3   [['Janet Yellen', '0.6759'], ['None', '0.3241']]     Q263725   \n",
       "4  [['Martin McGuinness', '0.924'], ['None', '0.0...      Q57689   \n",
       "\n",
       "           date_of_birth                                     nationality  \\\n",
       "0  +1970-05-27T00:00:00Z                              ['United Kingdom']   \n",
       "1  +1981-07-28T00:00:00Z                    ['United States of America']   \n",
       "2  +1964-06-19T00:00:00Z  ['United States of America', 'United Kingdom']   \n",
       "3  +1946-08-13T00:00:00Z                    ['United States of America']   \n",
       "4  +1950-05-23T00:00:00Z                                     ['Ireland']   \n",
       "\n",
       "       gender                                         occupation  \\\n",
       "0    ['male']                                     ['politician']   \n",
       "1    ['male']                              ['basketball player']   \n",
       "2    ['male']  ['journalist', 'politician', 'editor', 'writer...   \n",
       "3  ['female']  ['economist', 'professor', 'banker', 'politici...   \n",
       "4    ['male']                                     ['politician']   \n",
       "\n",
       "               label   age  \n",
       "0         Tim Farron  51.0  \n",
       "1        Steve Smith  40.0  \n",
       "2      Boris Johnson  57.0  \n",
       "3       Janet Yellen  75.0  \n",
       "4  Martin McGuinness  71.0  "
      ]
     },
     "execution_count": 3,
     "metadata": {},
     "output_type": "execute_result"
    }
   ],
   "source": [
    "df = pd.read_csv('./brexit_enriched_age.csv.bz2', compression='bz2', sep=',',index_col=0)\n",
    "brexit_enriched = pd.read_json('brexit_enriched_age.json.bz2', compression='bz2')\n",
    "df.head()"
   ]
  },
  {
   "cell_type": "code",
   "execution_count": 4,
   "metadata": {},
   "outputs": [
    {
     "data": {
      "text/html": [
       "<div>\n",
       "<style scoped>\n",
       "    .dataframe tbody tr th:only-of-type {\n",
       "        vertical-align: middle;\n",
       "    }\n",
       "\n",
       "    .dataframe tbody tr th {\n",
       "        vertical-align: top;\n",
       "    }\n",
       "\n",
       "    .dataframe thead th {\n",
       "        text-align: right;\n",
       "    }\n",
       "</style>\n",
       "<table border=\"1\" class=\"dataframe\">\n",
       "  <thead>\n",
       "    <tr style=\"text-align: right;\">\n",
       "      <th></th>\n",
       "      <th>date</th>\n",
       "      <th>quotation</th>\n",
       "      <th>speaker</th>\n",
       "      <th>qids</th>\n",
       "      <th>probas</th>\n",
       "      <th>speaker_qid</th>\n",
       "      <th>date_of_birth</th>\n",
       "      <th>nationality</th>\n",
       "      <th>gender</th>\n",
       "      <th>occupation</th>\n",
       "      <th>label</th>\n",
       "      <th>age</th>\n",
       "    </tr>\n",
       "  </thead>\n",
       "  <tbody>\n",
       "    <tr>\n",
       "      <th>0</th>\n",
       "      <td>2016-09-07</td>\n",
       "      <td>Corbyn shows his true colours. Rather than att...</td>\n",
       "      <td>Tim Farron</td>\n",
       "      <td>['Q304251']</td>\n",
       "      <td>[['Tim Farron', '0.8865'], ['None', '0.0683'],...</td>\n",
       "      <td>Q304251</td>\n",
       "      <td>+1970-05-27T00:00:00Z</td>\n",
       "      <td>['United Kingdom']</td>\n",
       "      <td>['male']</td>\n",
       "      <td>['politician']</td>\n",
       "      <td>Tim Farron</td>\n",
       "      <td>51.0</td>\n",
       "    </tr>\n",
       "    <tr>\n",
       "      <th>1</th>\n",
       "      <td>2016-08-11</td>\n",
       "      <td>People are nervous and universities are being ...</td>\n",
       "      <td>Steve Smith</td>\n",
       "      <td>['Q11894442', 'Q16885757', 'Q23418614', 'Q2347...</td>\n",
       "      <td>[['Steve Smith', '0.887'], ['None', '0.113']]</td>\n",
       "      <td>Q11894442</td>\n",
       "      <td>+1981-07-28T00:00:00Z</td>\n",
       "      <td>['United States of America']</td>\n",
       "      <td>['male']</td>\n",
       "      <td>['basketball player']</td>\n",
       "      <td>Steve Smith</td>\n",
       "      <td>40.0</td>\n",
       "    </tr>\n",
       "    <tr>\n",
       "      <th>2</th>\n",
       "      <td>2016-07-05</td>\n",
       "      <td>best placed to help forge a great post Brexit ...</td>\n",
       "      <td>Boris Johnson</td>\n",
       "      <td>['Q180589']</td>\n",
       "      <td>[['Boris Johnson', '0.7713'], ['Andrea Leadsom...</td>\n",
       "      <td>Q180589</td>\n",
       "      <td>+1964-06-19T00:00:00Z</td>\n",
       "      <td>['United States of America', 'United Kingdom']</td>\n",
       "      <td>['male']</td>\n",
       "      <td>['journalist', 'politician', 'editor', 'writer...</td>\n",
       "      <td>Boris Johnson</td>\n",
       "      <td>57.0</td>\n",
       "    </tr>\n",
       "    <tr>\n",
       "      <th>3</th>\n",
       "      <td>2016-12-14</td>\n",
       "      <td>In the run-up to the Brexit vote earlier this ...</td>\n",
       "      <td>Janet Yellen</td>\n",
       "      <td>['Q263725']</td>\n",
       "      <td>[['Janet Yellen', '0.6759'], ['None', '0.3241']]</td>\n",
       "      <td>Q263725</td>\n",
       "      <td>+1946-08-13T00:00:00Z</td>\n",
       "      <td>['United States of America']</td>\n",
       "      <td>['female']</td>\n",
       "      <td>['economist', 'professor', 'banker', 'politici...</td>\n",
       "      <td>Janet Yellen</td>\n",
       "      <td>75.0</td>\n",
       "    </tr>\n",
       "    <tr>\n",
       "      <th>4</th>\n",
       "      <td>2016-07-25</td>\n",
       "      <td>On the issue of Brexit, I speak for the people...</td>\n",
       "      <td>Martin McGuinness</td>\n",
       "      <td>['Q57689']</td>\n",
       "      <td>[['Martin McGuinness', '0.924'], ['None', '0.0...</td>\n",
       "      <td>Q57689</td>\n",
       "      <td>+1950-05-23T00:00:00Z</td>\n",
       "      <td>['Ireland']</td>\n",
       "      <td>['male']</td>\n",
       "      <td>['politician']</td>\n",
       "      <td>Martin McGuinness</td>\n",
       "      <td>71.0</td>\n",
       "    </tr>\n",
       "    <tr>\n",
       "      <th>...</th>\n",
       "      <td>...</td>\n",
       "      <td>...</td>\n",
       "      <td>...</td>\n",
       "      <td>...</td>\n",
       "      <td>...</td>\n",
       "      <td>...</td>\n",
       "      <td>...</td>\n",
       "      <td>...</td>\n",
       "      <td>...</td>\n",
       "      <td>...</td>\n",
       "      <td>...</td>\n",
       "      <td>...</td>\n",
       "    </tr>\n",
       "    <tr>\n",
       "      <th>95803</th>\n",
       "      <td>2020-03-02</td>\n",
       "      <td>If the UK were to abide by EU rules, that woul...</td>\n",
       "      <td>David Frost</td>\n",
       "      <td>['Q1174477', 'Q380865', 'Q5233878', 'Q5233879'...</td>\n",
       "      <td>[['David Frost', '0.761'], ['None', '0.2171'],...</td>\n",
       "      <td>Q1174477</td>\n",
       "      <td>+1959-09-11T00:00:00Z</td>\n",
       "      <td>['South Africa']</td>\n",
       "      <td>['male']</td>\n",
       "      <td>['golfer']</td>\n",
       "      <td>David Frost</td>\n",
       "      <td>62.0</td>\n",
       "    </tr>\n",
       "    <tr>\n",
       "      <th>95804</th>\n",
       "      <td>2020-01-24</td>\n",
       "      <td>It is universally agreed that one thing that s...</td>\n",
       "      <td>Bishop Paul</td>\n",
       "      <td>['Q18510098']</td>\n",
       "      <td>[['Bishop Paul', '0.8251'], ['None', '0.1749']]</td>\n",
       "      <td>Q18510098</td>\n",
       "      <td>+1953-04-06T00:00:00Z</td>\n",
       "      <td>['United States of America']</td>\n",
       "      <td>['male']</td>\n",
       "      <td>['priest']</td>\n",
       "      <td>Bishop Paul</td>\n",
       "      <td>68.0</td>\n",
       "    </tr>\n",
       "    <tr>\n",
       "      <th>95805</th>\n",
       "      <td>2020-02-03</td>\n",
       "      <td>Sometimes I feel I am Scottish. I am very Scot...</td>\n",
       "      <td>Donald Tusk</td>\n",
       "      <td>['Q946']</td>\n",
       "      <td>[['Donald Tusk', '0.54'], ['None', '0.3808'], ...</td>\n",
       "      <td>Q946</td>\n",
       "      <td>+1957-04-22T00:00:00Z</td>\n",
       "      <td>['Poland']</td>\n",
       "      <td>['male']</td>\n",
       "      <td>['politician', 'historian']</td>\n",
       "      <td>Donald Tusk</td>\n",
       "      <td>64.0</td>\n",
       "    </tr>\n",
       "    <tr>\n",
       "      <th>95806</th>\n",
       "      <td>2020-01-30</td>\n",
       "      <td>he needs to listen to pro-Europeans, and I thi...</td>\n",
       "      <td>Ed Davey</td>\n",
       "      <td>['Q296689']</td>\n",
       "      <td>[['Ed Davey', '0.6614'], ['None', '0.1591'], [...</td>\n",
       "      <td>Q296689</td>\n",
       "      <td>+1965-12-25T00:00:00Z</td>\n",
       "      <td>['United Kingdom']</td>\n",
       "      <td>['male']</td>\n",
       "      <td>['politician', 'economist']</td>\n",
       "      <td>Ed Davey</td>\n",
       "      <td>56.0</td>\n",
       "    </tr>\n",
       "    <tr>\n",
       "      <th>95807</th>\n",
       "      <td>2020-02-01</td>\n",
       "      <td>On the night that the UK have left the Europea...</td>\n",
       "      <td>George Wilson</td>\n",
       "      <td>['Q18392304', 'Q18917675', 'Q53805877', 'Q5546...</td>\n",
       "      <td>[['George Wilson', '0.8946'], ['None', '0.1054']]</td>\n",
       "      <td>Q18392304</td>\n",
       "      <td>+1920-05-28T00:00:00Z</td>\n",
       "      <td>['Australia']</td>\n",
       "      <td>['male']</td>\n",
       "      <td>['Australian rules football player']</td>\n",
       "      <td>George Wilson</td>\n",
       "      <td>101.0</td>\n",
       "    </tr>\n",
       "  </tbody>\n",
       "</table>\n",
       "<p>88881 rows × 12 columns</p>\n",
       "</div>"
      ],
      "text/plain": [
       "             date                                          quotation  \\\n",
       "0      2016-09-07  Corbyn shows his true colours. Rather than att...   \n",
       "1      2016-08-11  People are nervous and universities are being ...   \n",
       "2      2016-07-05  best placed to help forge a great post Brexit ...   \n",
       "3      2016-12-14  In the run-up to the Brexit vote earlier this ...   \n",
       "4      2016-07-25  On the issue of Brexit, I speak for the people...   \n",
       "...           ...                                                ...   \n",
       "95803  2020-03-02  If the UK were to abide by EU rules, that woul...   \n",
       "95804  2020-01-24  It is universally agreed that one thing that s...   \n",
       "95805  2020-02-03  Sometimes I feel I am Scottish. I am very Scot...   \n",
       "95806  2020-01-30  he needs to listen to pro-Europeans, and I thi...   \n",
       "95807  2020-02-01  On the night that the UK have left the Europea...   \n",
       "\n",
       "                 speaker                                               qids  \\\n",
       "0             Tim Farron                                        ['Q304251']   \n",
       "1            Steve Smith  ['Q11894442', 'Q16885757', 'Q23418614', 'Q2347...   \n",
       "2          Boris Johnson                                        ['Q180589']   \n",
       "3           Janet Yellen                                        ['Q263725']   \n",
       "4      Martin McGuinness                                         ['Q57689']   \n",
       "...                  ...                                                ...   \n",
       "95803        David Frost  ['Q1174477', 'Q380865', 'Q5233878', 'Q5233879'...   \n",
       "95804        Bishop Paul                                      ['Q18510098']   \n",
       "95805        Donald Tusk                                           ['Q946']   \n",
       "95806           Ed Davey                                        ['Q296689']   \n",
       "95807      George Wilson  ['Q18392304', 'Q18917675', 'Q53805877', 'Q5546...   \n",
       "\n",
       "                                                  probas speaker_qid  \\\n",
       "0      [['Tim Farron', '0.8865'], ['None', '0.0683'],...     Q304251   \n",
       "1          [['Steve Smith', '0.887'], ['None', '0.113']]   Q11894442   \n",
       "2      [['Boris Johnson', '0.7713'], ['Andrea Leadsom...     Q180589   \n",
       "3       [['Janet Yellen', '0.6759'], ['None', '0.3241']]     Q263725   \n",
       "4      [['Martin McGuinness', '0.924'], ['None', '0.0...      Q57689   \n",
       "...                                                  ...         ...   \n",
       "95803  [['David Frost', '0.761'], ['None', '0.2171'],...    Q1174477   \n",
       "95804    [['Bishop Paul', '0.8251'], ['None', '0.1749']]   Q18510098   \n",
       "95805  [['Donald Tusk', '0.54'], ['None', '0.3808'], ...        Q946   \n",
       "95806  [['Ed Davey', '0.6614'], ['None', '0.1591'], [...     Q296689   \n",
       "95807  [['George Wilson', '0.8946'], ['None', '0.1054']]   Q18392304   \n",
       "\n",
       "               date_of_birth                                     nationality  \\\n",
       "0      +1970-05-27T00:00:00Z                              ['United Kingdom']   \n",
       "1      +1981-07-28T00:00:00Z                    ['United States of America']   \n",
       "2      +1964-06-19T00:00:00Z  ['United States of America', 'United Kingdom']   \n",
       "3      +1946-08-13T00:00:00Z                    ['United States of America']   \n",
       "4      +1950-05-23T00:00:00Z                                     ['Ireland']   \n",
       "...                      ...                                             ...   \n",
       "95803  +1959-09-11T00:00:00Z                                ['South Africa']   \n",
       "95804  +1953-04-06T00:00:00Z                    ['United States of America']   \n",
       "95805  +1957-04-22T00:00:00Z                                      ['Poland']   \n",
       "95806  +1965-12-25T00:00:00Z                              ['United Kingdom']   \n",
       "95807  +1920-05-28T00:00:00Z                                   ['Australia']   \n",
       "\n",
       "           gender                                         occupation  \\\n",
       "0        ['male']                                     ['politician']   \n",
       "1        ['male']                              ['basketball player']   \n",
       "2        ['male']  ['journalist', 'politician', 'editor', 'writer...   \n",
       "3      ['female']  ['economist', 'professor', 'banker', 'politici...   \n",
       "4        ['male']                                     ['politician']   \n",
       "...           ...                                                ...   \n",
       "95803    ['male']                                         ['golfer']   \n",
       "95804    ['male']                                         ['priest']   \n",
       "95805    ['male']                        ['politician', 'historian']   \n",
       "95806    ['male']                        ['politician', 'economist']   \n",
       "95807    ['male']               ['Australian rules football player']   \n",
       "\n",
       "                   label    age  \n",
       "0             Tim Farron   51.0  \n",
       "1            Steve Smith   40.0  \n",
       "2          Boris Johnson   57.0  \n",
       "3           Janet Yellen   75.0  \n",
       "4      Martin McGuinness   71.0  \n",
       "...                  ...    ...  \n",
       "95803        David Frost   62.0  \n",
       "95804        Bishop Paul   68.0  \n",
       "95805        Donald Tusk   64.0  \n",
       "95806           Ed Davey   56.0  \n",
       "95807      George Wilson  101.0  \n",
       "\n",
       "[88881 rows x 12 columns]"
      ]
     },
     "execution_count": 4,
     "metadata": {},
     "output_type": "execute_result"
    }
   ],
   "source": [
    "# derive the speakers with the maximum probability\n",
    "speaker_max_prob = df['probas'].apply(lambda x: x[1:-1].split(',')[0])\n",
    "\n",
    "# get rid of redundant symbols in strings\n",
    "speaker_max_prob = speaker_max_prob.apply(lambda x: x.strip('[').replace('\\'',''))\n",
    "\n",
    "# filter out the rows where the speaker assigned is diiferent from the speaker with the maximum probability\n",
    "df = df[df['speaker'] == speaker_max_prob]\n",
    "\n",
    "# filter out the rows where the probability of the asignned speaker is lower than 0.5\n",
    "prob = df['probas'].apply(lambda x: x[1:-1].split(',')).apply(lambda x: x[1].strip(']').replace('\\'',''))\n",
    "df = df[prob.astype(float) > 0.5]\n",
    "\n",
    "df"
   ]
  },
  {
   "cell_type": "code",
   "execution_count": 5,
   "metadata": {
    "scrolled": true
   },
   "outputs": [
    {
     "data": {
      "text/html": [
       "<div>\n",
       "<style scoped>\n",
       "    .dataframe tbody tr th:only-of-type {\n",
       "        vertical-align: middle;\n",
       "    }\n",
       "\n",
       "    .dataframe tbody tr th {\n",
       "        vertical-align: top;\n",
       "    }\n",
       "\n",
       "    .dataframe thead tr th {\n",
       "        text-align: left;\n",
       "    }\n",
       "</style>\n",
       "<table border=\"1\" class=\"dataframe\">\n",
       "  <thead>\n",
       "    <tr>\n",
       "      <th></th>\n",
       "      <th colspan=\"2\" halign=\"left\">speaker_qid</th>\n",
       "    </tr>\n",
       "    <tr>\n",
       "      <th></th>\n",
       "      <th></th>\n",
       "      <th>count</th>\n",
       "    </tr>\n",
       "  </thead>\n",
       "  <tbody>\n",
       "    <tr>\n",
       "      <th>0</th>\n",
       "      <td>Q264766</td>\n",
       "      <td>3285</td>\n",
       "    </tr>\n",
       "    <tr>\n",
       "      <th>1</th>\n",
       "      <td>Q180589</td>\n",
       "      <td>2795</td>\n",
       "    </tr>\n",
       "    <tr>\n",
       "      <th>2</th>\n",
       "      <td>Q318471</td>\n",
       "      <td>1820</td>\n",
       "    </tr>\n",
       "    <tr>\n",
       "      <th>3</th>\n",
       "      <td>Q291169</td>\n",
       "      <td>1528</td>\n",
       "    </tr>\n",
       "    <tr>\n",
       "      <th>4</th>\n",
       "      <td>Q467112</td>\n",
       "      <td>1379</td>\n",
       "    </tr>\n",
       "    <tr>\n",
       "      <th>5</th>\n",
       "      <td>Q946</td>\n",
       "      <td>992</td>\n",
       "    </tr>\n",
       "    <tr>\n",
       "      <th>6</th>\n",
       "      <td>Q1728820</td>\n",
       "      <td>803</td>\n",
       "    </tr>\n",
       "    <tr>\n",
       "      <th>7</th>\n",
       "      <td>Q244312</td>\n",
       "      <td>660</td>\n",
       "    </tr>\n",
       "    <tr>\n",
       "      <th>8</th>\n",
       "      <td>Q1670096</td>\n",
       "      <td>640</td>\n",
       "    </tr>\n",
       "    <tr>\n",
       "      <th>9</th>\n",
       "      <td>Q438465</td>\n",
       "      <td>628</td>\n",
       "    </tr>\n",
       "    <tr>\n",
       "      <th>10</th>\n",
       "      <td>Q333533</td>\n",
       "      <td>606</td>\n",
       "    </tr>\n",
       "    <tr>\n",
       "      <th>11</th>\n",
       "      <td>Q9545</td>\n",
       "      <td>605</td>\n",
       "    </tr>\n",
       "    <tr>\n",
       "      <th>12</th>\n",
       "      <td>Q192533</td>\n",
       "      <td>573</td>\n",
       "    </tr>\n",
       "    <tr>\n",
       "      <th>13</th>\n",
       "      <td>Q574980</td>\n",
       "      <td>538</td>\n",
       "    </tr>\n",
       "    <tr>\n",
       "      <th>14</th>\n",
       "      <td>Q6383803</td>\n",
       "      <td>495</td>\n",
       "    </tr>\n",
       "    <tr>\n",
       "      <th>15</th>\n",
       "      <td>Q18388174</td>\n",
       "      <td>481</td>\n",
       "    </tr>\n",
       "    <tr>\n",
       "      <th>16</th>\n",
       "      <td>Q327790</td>\n",
       "      <td>457</td>\n",
       "    </tr>\n",
       "    <tr>\n",
       "      <th>17</th>\n",
       "      <td>Q1174175</td>\n",
       "      <td>404</td>\n",
       "    </tr>\n",
       "    <tr>\n",
       "      <th>18</th>\n",
       "      <td>Q18921442</td>\n",
       "      <td>394</td>\n",
       "    </tr>\n",
       "    <tr>\n",
       "      <th>19</th>\n",
       "      <td>Q304251</td>\n",
       "      <td>380</td>\n",
       "    </tr>\n",
       "  </tbody>\n",
       "</table>\n",
       "</div>"
      ],
      "text/plain": [
       "   speaker_qid      \n",
       "               count\n",
       "0      Q264766  3285\n",
       "1      Q180589  2795\n",
       "2      Q318471  1820\n",
       "3      Q291169  1528\n",
       "4      Q467112  1379\n",
       "5         Q946   992\n",
       "6     Q1728820   803\n",
       "7      Q244312   660\n",
       "8     Q1670096   640\n",
       "9      Q438465   628\n",
       "10     Q333533   606\n",
       "11       Q9545   605\n",
       "12     Q192533   573\n",
       "13     Q574980   538\n",
       "14    Q6383803   495\n",
       "15   Q18388174   481\n",
       "16     Q327790   457\n",
       "17    Q1174175   404\n",
       "18   Q18921442   394\n",
       "19     Q304251   380"
      ]
     },
     "execution_count": 5,
     "metadata": {},
     "output_type": "execute_result"
    }
   ],
   "source": [
    "df_speaker = df.groupby(['speaker_qid']).agg({'speaker_qid': ['count']}).sort_values(by=('speaker_qid', 'count'), ascending=False)\n",
    "df_speaker = df_speaker[:20].reset_index()\n",
    "df_speaker"
   ]
  },
  {
   "cell_type": "code",
   "execution_count": 6,
   "metadata": {
    "scrolled": true
   },
   "outputs": [],
   "source": [
    "df_speaker['Speaker']=['Theresa May','Boris Johnson','Nigel Farage','Jeremy Corbyn','Nicola Sturgeon',\n",
    "                       'Donald Tusk','Leo Varadkar','Vince Cable','Simon Coveney','Michel Barnier',\n",
    "                       'Jeremy Hunt','Tony Blair','Mark Carney','Jacob Rees-Mogg','Keir Starmer',\n",
    "                       'Philip Hammond','Jo Swinson','David Davis','Ian Blackford','Tim Farron']"
   ]
  },
  {
   "cell_type": "code",
   "execution_count": 7,
   "metadata": {
    "scrolled": true
   },
   "outputs": [
    {
     "data": {
      "image/png": "[encoded data removed]",
      "text/plain": [
       "<Figure size 432x288 with 1 Axes>"
      ]
     },
     "metadata": {
      "needs_background": "light"
     },
     "output_type": "display_data"
    }
   ],
   "source": [
    "ax = sns.barplot(data = df_speaker, x = 'Speaker', y=('speaker_qid', 'count'),  color='cornflowerblue',alpha=1)\n",
    "ax.set_xticklabels(df_speaker['Speaker'], rotation=90)\n",
    "ax.set_title('Distribution of the Number of Quotes \\n for the Top 20 speakers')\n",
    "plt.ylabel('Number of quotes')\n",
    "plt.show()"
   ]
  },
  {
   "cell_type": "markdown",
   "metadata": {},
   "source": [
    "### Where these Quotations come from ?\n",
    "Let's first have a look at where these quotations come frm by analyzing the nationalities of different speakers on the Brexit."
   ]
  },
  {
   "cell_type": "code",
   "execution_count": 13,
   "metadata": {},
   "outputs": [
    {
     "data": {
      "text/plain": [
       "United Kingdom              53891\n",
       "United States of America    11653\n",
       "Ireland                      6898\n",
       "Australia                    2648\n",
       "Canada                       2342\n",
       "Name: nationality, dtype: int64"
      ]
     },
     "execution_count": 13,
     "metadata": {},
     "output_type": "execute_result"
    }
   ],
   "source": [
    "Nations = brexit_enriched['nationality'].explode().value_counts()\n",
    "Top20_Nations = Nations[:20]\n",
    "Top20_Nations.head()"
   ]
  },
  {
   "cell_type": "code",
   "execution_count": 14,
   "metadata": {},
   "outputs": [
    {
     "data": {
      "text/plain": [
       "pandas.core.series.Series"
      ]
     },
     "execution_count": 14,
     "metadata": {},
     "output_type": "execute_result"
    }
   ],
   "source": [
    "type(Top20_Nations)"
   ]
  },
  {
   "cell_type": "code",
   "execution_count": 19,
   "metadata": {},
   "outputs": [
    {
     "name": "stderr",
     "output_type": "stream",
     "text": [
      "D:\\anaconda3\\lib\\site-packages\\seaborn\\_decorators.py:36: FutureWarning: Pass the following variables as keyword args: x, y. From version 0.12, the only valid positional argument will be `data`, and passing other arguments without an explicit keyword will result in an error or misinterpretation.\n",
      "  warnings.warn(\n"
     ]
    },
    {
     "data": {
      "image/png": "[encoded data removed]",
      "text/plain": [
       "<Figure size 432x288 with 1 Axes>"
      ]
     },
     "metadata": {
      "needs_background": "light"
     },
     "output_type": "display_data"
    }
   ],
   "source": [
    "ax = sns.barplot(Top20_Nations.index, Top20_Nations.values,color='cornflowerblue',alpha=1)\n",
    "ax.set_xticklabels(Top20_Nations.index, rotation=90)\n",
    "ax.set_yscale(\"log\")\n",
    "ax.set_title('Distribution of the Number of Quotes \\n for the Top 20 Nationalities')\n",
    "plt.ylabel('Number of quotes')\n",
    "plt.show()"
   ]
  },
  {
   "cell_type": "markdown",
   "metadata": {},
   "source": [
    "After visualizing the top 20 nations talking about the Brexit, it's obvious that most of speakers talking about the Brexit came from dominant countries in the world, for example, the United Kindom, the United States of America, Australia and so on. As this event, Brexit, was mostly about the European situation, we can observe that most countries in the top 20 nations talking about the Brexit were from the Europe, which shows that people care about the Brexit are mostly from the Europe."
   ]
  },
  {
   "cell_type": "markdown",
   "metadata": {},
   "source": [
    "### Gender of Speakers about the Brexit"
   ]
  },
  {
   "cell_type": "code",
   "execution_count": 20,
   "metadata": {},
   "outputs": [
    {
     "data": {
      "text/plain": [
       "male                75881\n",
       "female              19200\n",
       "eunuch                 31\n",
       "cisgender female       26\n",
       "non-binary             14\n",
       "Name: gender, dtype: int64"
      ]
     },
     "execution_count": 20,
     "metadata": {},
     "output_type": "execute_result"
    }
   ],
   "source": [
    "Gender = brexit_enriched['gender'].explode().value_counts()\n",
    "Gender.head()"
   ]
  },
  {
   "cell_type": "code",
   "execution_count": 24,
   "metadata": {},
   "outputs": [
    {
     "name": "stderr",
     "output_type": "stream",
     "text": [
      "D:\\anaconda3\\lib\\site-packages\\seaborn\\_decorators.py:36: FutureWarning: Pass the following variables as keyword args: x, y. From version 0.12, the only valid positional argument will be `data`, and passing other arguments without an explicit keyword will result in an error or misinterpretation.\n",
      "  warnings.warn(\n"
     ]
    },
    {
     "data": {
      "image/png": "[encoded data removed]",
      "text/plain": [
       "<Figure size 432x288 with 1 Axes>"
      ]
     },
     "metadata": {
      "needs_background": "light"
     },
     "output_type": "display_data"
    }
   ],
   "source": [
    "ax = sns.barplot(Gender.index, Gender.values,color='cornflowerblue',alpha=1)\n",
    "ax.set_xticklabels(Gender.index, rotation=90)\n",
    "ax.set_yscale(\"log\")\n",
    "ax.set_title('Distribution of the Number of Quotes \\n for Different Genders')\n",
    "plt.ylabel('Number of quotes')\n",
    "plt.show()"
   ]
  },
  {
   "cell_type": "markdown",
   "metadata": {},
   "source": [
    "### Speakers' occupation behind Brexit-related quotations"
   ]
  },
  {
   "cell_type": "code",
   "execution_count": 23,
   "metadata": {},
   "outputs": [
    {
     "data": {
      "text/plain": [
       "politician    54383\n",
       "journalist     9374\n",
       "writer         8021\n",
       "lawyer         6583\n",
       "economist      4894\n",
       "Name: occupation, dtype: int64"
      ]
     },
     "execution_count": 23,
     "metadata": {},
     "output_type": "execute_result"
    }
   ],
   "source": [
    "Occupations = brexit_enriched['occupation'].explode().value_counts()\n",
    "Top20_Occupations = Occupations[:20]\n",
    "Top20_Occupations.head()"
   ]
  },
  {
   "cell_type": "code",
   "execution_count": 25,
   "metadata": {},
   "outputs": [
    {
     "name": "stderr",
     "output_type": "stream",
     "text": [
      "D:\\anaconda3\\lib\\site-packages\\seaborn\\_decorators.py:36: FutureWarning: Pass the following variables as keyword args: x, y. From version 0.12, the only valid positional argument will be `data`, and passing other arguments without an explicit keyword will result in an error or misinterpretation.\n",
      "  warnings.warn(\n"
     ]
    },
    {
     "data": {
      "image/png": "[encoded data removed]",
      "text/plain": [
       "<Figure size 432x288 with 1 Axes>"
      ]
     },
     "metadata": {
      "needs_background": "light"
     },
     "output_type": "display_data"
    }
   ],
   "source": [
    "ax = sns.barplot(Top20_Occupations.index, Top20_Occupations.values,color='cornflowerblue',alpha=1)\n",
    "ax.set_xticklabels(Top20_Occupations.index, rotation=90)\n",
    "ax.set_yscale(\"log\")\n",
    "ax.set_title('Distribution of the Number of Quotes \\n for the Top 20 Occupations')\n",
    "plt.ylabel('Number of quotes')\n",
    "plt.show()"
   ]
  },
  {
   "cell_type": "code",
   "execution_count": null,
   "metadata": {},
   "outputs": [],
   "source": []
  }
 ],
 "metadata": {
  "kernelspec": {
   "display_name": "Python 3",
   "language": "python",
   "name": "python3"
  },
  "language_info": {
   "codemirror_mode": {
    "name": "ipython",
    "version": 3
   },
   "file_extension": ".py",
   "mimetype": "text/x-python",
   "name": "python",
   "nbconvert_exporter": "python",
   "pygments_lexer": "ipython3",
   "version": "3.8.3"
  }
 },
 "nbformat": 4,
 "nbformat_minor": 5
}
