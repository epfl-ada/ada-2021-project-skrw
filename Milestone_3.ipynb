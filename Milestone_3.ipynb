{
 "cells": [
  {
   "cell_type": "markdown",
   "id": "7d9328b6",
   "metadata": {},
   "source": [
    "# Quotations Behind Brexit"
   ]
  },
  {
   "cell_type": "markdown",
   "id": "a09dd21d",
   "metadata": {},
   "source": [
    "Brexit (a portmanteau of \"British exit\") was the withdrawal of the United Kingdom (UK) from the European Union (EU) at 23:00 GMT on 31 January 2020 (00:00 CET). The UK is the first and so far the only member state to have left the EU, after 47 years of having been a part of the union — the EU and its predecessor the European Communities (EC), which included the European Economic Community — since 1 January 1973.\n",
    "Actually, the United Kindom was considering about exiting the EU ever since 2016. After several referendums and negotiations between UK-EU, they finally exit the EU in early January, 2020. And the withdrawl aggrement finally came into force on 31 January 2020.\n",
    "In our project, we would like to dive into quotations talking about the Brexit and analyze information behind these quotations to learn about people's attitude through the whole event."
   ]
  },
  {
   "cell_type": "code",
   "execution_count": 1,
   "id": "cd544036",
   "metadata": {},
   "outputs": [],
   "source": [
    "import pandas as pd\n",
    "import seaborn as sns\n",
    "import matplotlib.pyplot as plt\n",
    "\n",
    "from nltk.corpus import stopwords\n",
    "import nltk\n",
    "# nltk.download('punkt')\n",
    "# nltk.download('averaged_perceptron_tagger')\n",
    "# nltk.download('wordnet')\n",
    "# nltk.download('stopwords')\n",
    "\n",
    "import warnings\n",
    "warnings.filterwarnings(\"ignore\")\n",
    "\n",
    "import re\n",
    "from functools import reduce\n",
    "from string import punctuation\n",
    "from itertools import chain\n",
    "import spacy, nltk, gensim, sklearn\n",
    "import pyLDAvis.gensim_models\n",
    "\n",
    "from nltk.tokenize import sent_tokenize\n",
    "from nltk.tokenize import word_tokenize\n",
    "from nltk import pos_tag\n",
    "from nltk.corpus import wordnet\n",
    "from nltk.stem.wordnet import WordNetLemmatizer\n",
    "from nltk.corpus import stopwords\n",
    "from gensim.models import Phrases\n",
    "from gensim import models\n",
    "from gensim import corpora\n",
    "from gensim.models import CoherenceModel\n",
    "\n",
    "\n",
    "from tqdm.notebook import tqdm\n",
    "tqdm.pandas(desc=\"progress-bar\")"
   ]
  },
  {
   "cell_type": "code",
   "execution_count": 2,
   "id": "619e8d6f",
   "metadata": {},
   "outputs": [
    {
     "data": {
      "text/html": [
       "<div>\n",
       "<style scoped>\n",
       "    .dataframe tbody tr th:only-of-type {\n",
       "        vertical-align: middle;\n",
       "    }\n",
       "\n",
       "    .dataframe tbody tr th {\n",
       "        vertical-align: top;\n",
       "    }\n",
       "\n",
       "    .dataframe thead th {\n",
       "        text-align: right;\n",
       "    }\n",
       "</style>\n",
       "<table border=\"1\" class=\"dataframe\">\n",
       "  <thead>\n",
       "    <tr style=\"text-align: right;\">\n",
       "      <th></th>\n",
       "      <th>date</th>\n",
       "      <th>quotation</th>\n",
       "      <th>speaker</th>\n",
       "      <th>qids</th>\n",
       "      <th>probas</th>\n",
       "      <th>speaker_qid</th>\n",
       "      <th>date_of_birth</th>\n",
       "      <th>nationality</th>\n",
       "      <th>gender</th>\n",
       "      <th>occupation</th>\n",
       "      <th>label</th>\n",
       "      <th>age</th>\n",
       "    </tr>\n",
       "  </thead>\n",
       "  <tbody>\n",
       "    <tr>\n",
       "      <th>0</th>\n",
       "      <td>2016-09-07</td>\n",
       "      <td>Corbyn shows his true colours. Rather than att...</td>\n",
       "      <td>Tim Farron</td>\n",
       "      <td>['Q304251']</td>\n",
       "      <td>[['Tim Farron', '0.8865'], ['None', '0.0683'],...</td>\n",
       "      <td>Q304251</td>\n",
       "      <td>+1970-05-27T00:00:00Z</td>\n",
       "      <td>['United Kingdom']</td>\n",
       "      <td>['male']</td>\n",
       "      <td>['politician']</td>\n",
       "      <td>Tim Farron</td>\n",
       "      <td>51.0</td>\n",
       "    </tr>\n",
       "    <tr>\n",
       "      <th>1</th>\n",
       "      <td>2016-08-11</td>\n",
       "      <td>People are nervous and universities are being ...</td>\n",
       "      <td>Steve Smith</td>\n",
       "      <td>['Q11894442', 'Q16885757', 'Q23418614', 'Q2347...</td>\n",
       "      <td>[['Steve Smith', '0.887'], ['None', '0.113']]</td>\n",
       "      <td>Q11894442</td>\n",
       "      <td>+1981-07-28T00:00:00Z</td>\n",
       "      <td>['United States of America']</td>\n",
       "      <td>['male']</td>\n",
       "      <td>['basketball player']</td>\n",
       "      <td>Steve Smith</td>\n",
       "      <td>40.0</td>\n",
       "    </tr>\n",
       "    <tr>\n",
       "      <th>2</th>\n",
       "      <td>2016-07-05</td>\n",
       "      <td>best placed to help forge a great post Brexit ...</td>\n",
       "      <td>Boris Johnson</td>\n",
       "      <td>['Q180589']</td>\n",
       "      <td>[['Boris Johnson', '0.7713'], ['Andrea Leadsom...</td>\n",
       "      <td>Q180589</td>\n",
       "      <td>+1964-06-19T00:00:00Z</td>\n",
       "      <td>['United States of America', 'United Kingdom']</td>\n",
       "      <td>['male']</td>\n",
       "      <td>['journalist', 'politician', 'editor', 'writer...</td>\n",
       "      <td>Boris Johnson</td>\n",
       "      <td>57.0</td>\n",
       "    </tr>\n",
       "    <tr>\n",
       "      <th>3</th>\n",
       "      <td>2016-12-14</td>\n",
       "      <td>In the run-up to the Brexit vote earlier this ...</td>\n",
       "      <td>Janet Yellen</td>\n",
       "      <td>['Q263725']</td>\n",
       "      <td>[['Janet Yellen', '0.6759'], ['None', '0.3241']]</td>\n",
       "      <td>Q263725</td>\n",
       "      <td>+1946-08-13T00:00:00Z</td>\n",
       "      <td>['United States of America']</td>\n",
       "      <td>['female']</td>\n",
       "      <td>['economist', 'professor', 'banker', 'politici...</td>\n",
       "      <td>Janet Yellen</td>\n",
       "      <td>75.0</td>\n",
       "    </tr>\n",
       "    <tr>\n",
       "      <th>4</th>\n",
       "      <td>2016-07-25</td>\n",
       "      <td>On the issue of Brexit, I speak for the people...</td>\n",
       "      <td>Martin McGuinness</td>\n",
       "      <td>['Q57689']</td>\n",
       "      <td>[['Martin McGuinness', '0.924'], ['None', '0.0...</td>\n",
       "      <td>Q57689</td>\n",
       "      <td>+1950-05-23T00:00:00Z</td>\n",
       "      <td>['Ireland']</td>\n",
       "      <td>['male']</td>\n",
       "      <td>['politician']</td>\n",
       "      <td>Martin McGuinness</td>\n",
       "      <td>71.0</td>\n",
       "    </tr>\n",
       "  </tbody>\n",
       "</table>\n",
       "</div>"
      ],
      "text/plain": [
       "         date                                          quotation  \\\n",
       "0  2016-09-07  Corbyn shows his true colours. Rather than att...   \n",
       "1  2016-08-11  People are nervous and universities are being ...   \n",
       "2  2016-07-05  best placed to help forge a great post Brexit ...   \n",
       "3  2016-12-14  In the run-up to the Brexit vote earlier this ...   \n",
       "4  2016-07-25  On the issue of Brexit, I speak for the people...   \n",
       "\n",
       "             speaker                                               qids  \\\n",
       "0         Tim Farron                                        ['Q304251']   \n",
       "1        Steve Smith  ['Q11894442', 'Q16885757', 'Q23418614', 'Q2347...   \n",
       "2      Boris Johnson                                        ['Q180589']   \n",
       "3       Janet Yellen                                        ['Q263725']   \n",
       "4  Martin McGuinness                                         ['Q57689']   \n",
       "\n",
       "                                              probas speaker_qid  \\\n",
       "0  [['Tim Farron', '0.8865'], ['None', '0.0683'],...     Q304251   \n",
       "1      [['Steve Smith', '0.887'], ['None', '0.113']]   Q11894442   \n",
       "2  [['Boris Johnson', '0.7713'], ['Andrea Leadsom...     Q180589   \n",
       "3   [['Janet Yellen', '0.6759'], ['None', '0.3241']]     Q263725   \n",
       "4  [['Martin McGuinness', '0.924'], ['None', '0.0...      Q57689   \n",
       "\n",
       "           date_of_birth                                     nationality  \\\n",
       "0  +1970-05-27T00:00:00Z                              ['United Kingdom']   \n",
       "1  +1981-07-28T00:00:00Z                    ['United States of America']   \n",
       "2  +1964-06-19T00:00:00Z  ['United States of America', 'United Kingdom']   \n",
       "3  +1946-08-13T00:00:00Z                    ['United States of America']   \n",
       "4  +1950-05-23T00:00:00Z                                     ['Ireland']   \n",
       "\n",
       "       gender                                         occupation  \\\n",
       "0    ['male']                                     ['politician']   \n",
       "1    ['male']                              ['basketball player']   \n",
       "2    ['male']  ['journalist', 'politician', 'editor', 'writer...   \n",
       "3  ['female']  ['economist', 'professor', 'banker', 'politici...   \n",
       "4    ['male']                                     ['politician']   \n",
       "\n",
       "               label   age  \n",
       "0         Tim Farron  51.0  \n",
       "1        Steve Smith  40.0  \n",
       "2      Boris Johnson  57.0  \n",
       "3       Janet Yellen  75.0  \n",
       "4  Martin McGuinness  71.0  "
      ]
     },
     "execution_count": 2,
     "metadata": {},
     "output_type": "execute_result"
    }
   ],
   "source": [
    "df = pd.read_csv('./brexit_enriched_age.csv.bz2', compression='bz2', sep=',',index_col=0)\n",
    "brexit_enriched = pd.read_json('brexit_enriched_age.json.bz2', compression='bz2')\n",
    "df.head()"
   ]
  },
  {
   "cell_type": "code",
   "execution_count": 3,
   "id": "9ba52d98",
   "metadata": {},
   "outputs": [
    {
     "data": {
      "text/html": [
       "<div>\n",
       "<style scoped>\n",
       "    .dataframe tbody tr th:only-of-type {\n",
       "        vertical-align: middle;\n",
       "    }\n",
       "\n",
       "    .dataframe tbody tr th {\n",
       "        vertical-align: top;\n",
       "    }\n",
       "\n",
       "    .dataframe thead th {\n",
       "        text-align: right;\n",
       "    }\n",
       "</style>\n",
       "<table border=\"1\" class=\"dataframe\">\n",
       "  <thead>\n",
       "    <tr style=\"text-align: right;\">\n",
       "      <th></th>\n",
       "      <th>date</th>\n",
       "      <th>quotation</th>\n",
       "      <th>speaker</th>\n",
       "      <th>qids</th>\n",
       "      <th>probas</th>\n",
       "      <th>speaker_qid</th>\n",
       "      <th>date_of_birth</th>\n",
       "      <th>nationality</th>\n",
       "      <th>gender</th>\n",
       "      <th>occupation</th>\n",
       "      <th>label</th>\n",
       "      <th>age</th>\n",
       "    </tr>\n",
       "  </thead>\n",
       "  <tbody>\n",
       "    <tr>\n",
       "      <th>0</th>\n",
       "      <td>2016-09-07</td>\n",
       "      <td>Corbyn shows his true colours. Rather than att...</td>\n",
       "      <td>Tim Farron</td>\n",
       "      <td>['Q304251']</td>\n",
       "      <td>[['Tim Farron', '0.8865'], ['None', '0.0683'],...</td>\n",
       "      <td>Q304251</td>\n",
       "      <td>+1970-05-27T00:00:00Z</td>\n",
       "      <td>['United Kingdom']</td>\n",
       "      <td>['male']</td>\n",
       "      <td>['politician']</td>\n",
       "      <td>Tim Farron</td>\n",
       "      <td>51.0</td>\n",
       "    </tr>\n",
       "    <tr>\n",
       "      <th>1</th>\n",
       "      <td>2016-08-11</td>\n",
       "      <td>People are nervous and universities are being ...</td>\n",
       "      <td>Steve Smith</td>\n",
       "      <td>['Q11894442', 'Q16885757', 'Q23418614', 'Q2347...</td>\n",
       "      <td>[['Steve Smith', '0.887'], ['None', '0.113']]</td>\n",
       "      <td>Q11894442</td>\n",
       "      <td>+1981-07-28T00:00:00Z</td>\n",
       "      <td>['United States of America']</td>\n",
       "      <td>['male']</td>\n",
       "      <td>['basketball player']</td>\n",
       "      <td>Steve Smith</td>\n",
       "      <td>40.0</td>\n",
       "    </tr>\n",
       "    <tr>\n",
       "      <th>2</th>\n",
       "      <td>2016-07-05</td>\n",
       "      <td>best placed to help forge a great post Brexit ...</td>\n",
       "      <td>Boris Johnson</td>\n",
       "      <td>['Q180589']</td>\n",
       "      <td>[['Boris Johnson', '0.7713'], ['Andrea Leadsom...</td>\n",
       "      <td>Q180589</td>\n",
       "      <td>+1964-06-19T00:00:00Z</td>\n",
       "      <td>['United States of America', 'United Kingdom']</td>\n",
       "      <td>['male']</td>\n",
       "      <td>['journalist', 'politician', 'editor', 'writer...</td>\n",
       "      <td>Boris Johnson</td>\n",
       "      <td>57.0</td>\n",
       "    </tr>\n",
       "    <tr>\n",
       "      <th>3</th>\n",
       "      <td>2016-12-14</td>\n",
       "      <td>In the run-up to the Brexit vote earlier this ...</td>\n",
       "      <td>Janet Yellen</td>\n",
       "      <td>['Q263725']</td>\n",
       "      <td>[['Janet Yellen', '0.6759'], ['None', '0.3241']]</td>\n",
       "      <td>Q263725</td>\n",
       "      <td>+1946-08-13T00:00:00Z</td>\n",
       "      <td>['United States of America']</td>\n",
       "      <td>['female']</td>\n",
       "      <td>['economist', 'professor', 'banker', 'politici...</td>\n",
       "      <td>Janet Yellen</td>\n",
       "      <td>75.0</td>\n",
       "    </tr>\n",
       "    <tr>\n",
       "      <th>4</th>\n",
       "      <td>2016-07-25</td>\n",
       "      <td>On the issue of Brexit, I speak for the people...</td>\n",
       "      <td>Martin McGuinness</td>\n",
       "      <td>['Q57689']</td>\n",
       "      <td>[['Martin McGuinness', '0.924'], ['None', '0.0...</td>\n",
       "      <td>Q57689</td>\n",
       "      <td>+1950-05-23T00:00:00Z</td>\n",
       "      <td>['Ireland']</td>\n",
       "      <td>['male']</td>\n",
       "      <td>['politician']</td>\n",
       "      <td>Martin McGuinness</td>\n",
       "      <td>71.0</td>\n",
       "    </tr>\n",
       "    <tr>\n",
       "      <th>...</th>\n",
       "      <td>...</td>\n",
       "      <td>...</td>\n",
       "      <td>...</td>\n",
       "      <td>...</td>\n",
       "      <td>...</td>\n",
       "      <td>...</td>\n",
       "      <td>...</td>\n",
       "      <td>...</td>\n",
       "      <td>...</td>\n",
       "      <td>...</td>\n",
       "      <td>...</td>\n",
       "      <td>...</td>\n",
       "    </tr>\n",
       "    <tr>\n",
       "      <th>95803</th>\n",
       "      <td>2020-03-02</td>\n",
       "      <td>If the UK were to abide by EU rules, that woul...</td>\n",
       "      <td>David Frost</td>\n",
       "      <td>['Q1174477', 'Q380865', 'Q5233878', 'Q5233879'...</td>\n",
       "      <td>[['David Frost', '0.761'], ['None', '0.2171'],...</td>\n",
       "      <td>Q1174477</td>\n",
       "      <td>+1959-09-11T00:00:00Z</td>\n",
       "      <td>['South Africa']</td>\n",
       "      <td>['male']</td>\n",
       "      <td>['golfer']</td>\n",
       "      <td>David Frost</td>\n",
       "      <td>62.0</td>\n",
       "    </tr>\n",
       "    <tr>\n",
       "      <th>95804</th>\n",
       "      <td>2020-01-24</td>\n",
       "      <td>It is universally agreed that one thing that s...</td>\n",
       "      <td>Bishop Paul</td>\n",
       "      <td>['Q18510098']</td>\n",
       "      <td>[['Bishop Paul', '0.8251'], ['None', '0.1749']]</td>\n",
       "      <td>Q18510098</td>\n",
       "      <td>+1953-04-06T00:00:00Z</td>\n",
       "      <td>['United States of America']</td>\n",
       "      <td>['male']</td>\n",
       "      <td>['priest']</td>\n",
       "      <td>Bishop Paul</td>\n",
       "      <td>68.0</td>\n",
       "    </tr>\n",
       "    <tr>\n",
       "      <th>95805</th>\n",
       "      <td>2020-02-03</td>\n",
       "      <td>Sometimes I feel I am Scottish. I am very Scot...</td>\n",
       "      <td>Donald Tusk</td>\n",
       "      <td>['Q946']</td>\n",
       "      <td>[['Donald Tusk', '0.54'], ['None', '0.3808'], ...</td>\n",
       "      <td>Q946</td>\n",
       "      <td>+1957-04-22T00:00:00Z</td>\n",
       "      <td>['Poland']</td>\n",
       "      <td>['male']</td>\n",
       "      <td>['politician', 'historian']</td>\n",
       "      <td>Donald Tusk</td>\n",
       "      <td>64.0</td>\n",
       "    </tr>\n",
       "    <tr>\n",
       "      <th>95806</th>\n",
       "      <td>2020-01-30</td>\n",
       "      <td>he needs to listen to pro-Europeans, and I thi...</td>\n",
       "      <td>Ed Davey</td>\n",
       "      <td>['Q296689']</td>\n",
       "      <td>[['Ed Davey', '0.6614'], ['None', '0.1591'], [...</td>\n",
       "      <td>Q296689</td>\n",
       "      <td>+1965-12-25T00:00:00Z</td>\n",
       "      <td>['United Kingdom']</td>\n",
       "      <td>['male']</td>\n",
       "      <td>['politician', 'economist']</td>\n",
       "      <td>Ed Davey</td>\n",
       "      <td>56.0</td>\n",
       "    </tr>\n",
       "    <tr>\n",
       "      <th>95807</th>\n",
       "      <td>2020-02-01</td>\n",
       "      <td>On the night that the UK have left the Europea...</td>\n",
       "      <td>George Wilson</td>\n",
       "      <td>['Q18392304', 'Q18917675', 'Q53805877', 'Q5546...</td>\n",
       "      <td>[['George Wilson', '0.8946'], ['None', '0.1054']]</td>\n",
       "      <td>Q18392304</td>\n",
       "      <td>+1920-05-28T00:00:00Z</td>\n",
       "      <td>['Australia']</td>\n",
       "      <td>['male']</td>\n",
       "      <td>['Australian rules football player']</td>\n",
       "      <td>George Wilson</td>\n",
       "      <td>101.0</td>\n",
       "    </tr>\n",
       "  </tbody>\n",
       "</table>\n",
       "<p>88881 rows × 12 columns</p>\n",
       "</div>"
      ],
      "text/plain": [
       "             date                                          quotation  \\\n",
       "0      2016-09-07  Corbyn shows his true colours. Rather than att...   \n",
       "1      2016-08-11  People are nervous and universities are being ...   \n",
       "2      2016-07-05  best placed to help forge a great post Brexit ...   \n",
       "3      2016-12-14  In the run-up to the Brexit vote earlier this ...   \n",
       "4      2016-07-25  On the issue of Brexit, I speak for the people...   \n",
       "...           ...                                                ...   \n",
       "95803  2020-03-02  If the UK were to abide by EU rules, that woul...   \n",
       "95804  2020-01-24  It is universally agreed that one thing that s...   \n",
       "95805  2020-02-03  Sometimes I feel I am Scottish. I am very Scot...   \n",
       "95806  2020-01-30  he needs to listen to pro-Europeans, and I thi...   \n",
       "95807  2020-02-01  On the night that the UK have left the Europea...   \n",
       "\n",
       "                 speaker                                               qids  \\\n",
       "0             Tim Farron                                        ['Q304251']   \n",
       "1            Steve Smith  ['Q11894442', 'Q16885757', 'Q23418614', 'Q2347...   \n",
       "2          Boris Johnson                                        ['Q180589']   \n",
       "3           Janet Yellen                                        ['Q263725']   \n",
       "4      Martin McGuinness                                         ['Q57689']   \n",
       "...                  ...                                                ...   \n",
       "95803        David Frost  ['Q1174477', 'Q380865', 'Q5233878', 'Q5233879'...   \n",
       "95804        Bishop Paul                                      ['Q18510098']   \n",
       "95805        Donald Tusk                                           ['Q946']   \n",
       "95806           Ed Davey                                        ['Q296689']   \n",
       "95807      George Wilson  ['Q18392304', 'Q18917675', 'Q53805877', 'Q5546...   \n",
       "\n",
       "                                                  probas speaker_qid  \\\n",
       "0      [['Tim Farron', '0.8865'], ['None', '0.0683'],...     Q304251   \n",
       "1          [['Steve Smith', '0.887'], ['None', '0.113']]   Q11894442   \n",
       "2      [['Boris Johnson', '0.7713'], ['Andrea Leadsom...     Q180589   \n",
       "3       [['Janet Yellen', '0.6759'], ['None', '0.3241']]     Q263725   \n",
       "4      [['Martin McGuinness', '0.924'], ['None', '0.0...      Q57689   \n",
       "...                                                  ...         ...   \n",
       "95803  [['David Frost', '0.761'], ['None', '0.2171'],...    Q1174477   \n",
       "95804    [['Bishop Paul', '0.8251'], ['None', '0.1749']]   Q18510098   \n",
       "95805  [['Donald Tusk', '0.54'], ['None', '0.3808'], ...        Q946   \n",
       "95806  [['Ed Davey', '0.6614'], ['None', '0.1591'], [...     Q296689   \n",
       "95807  [['George Wilson', '0.8946'], ['None', '0.1054']]   Q18392304   \n",
       "\n",
       "               date_of_birth                                     nationality  \\\n",
       "0      +1970-05-27T00:00:00Z                              ['United Kingdom']   \n",
       "1      +1981-07-28T00:00:00Z                    ['United States of America']   \n",
       "2      +1964-06-19T00:00:00Z  ['United States of America', 'United Kingdom']   \n",
       "3      +1946-08-13T00:00:00Z                    ['United States of America']   \n",
       "4      +1950-05-23T00:00:00Z                                     ['Ireland']   \n",
       "...                      ...                                             ...   \n",
       "95803  +1959-09-11T00:00:00Z                                ['South Africa']   \n",
       "95804  +1953-04-06T00:00:00Z                    ['United States of America']   \n",
       "95805  +1957-04-22T00:00:00Z                                      ['Poland']   \n",
       "95806  +1965-12-25T00:00:00Z                              ['United Kingdom']   \n",
       "95807  +1920-05-28T00:00:00Z                                   ['Australia']   \n",
       "\n",
       "           gender                                         occupation  \\\n",
       "0        ['male']                                     ['politician']   \n",
       "1        ['male']                              ['basketball player']   \n",
       "2        ['male']  ['journalist', 'politician', 'editor', 'writer...   \n",
       "3      ['female']  ['economist', 'professor', 'banker', 'politici...   \n",
       "4        ['male']                                     ['politician']   \n",
       "...           ...                                                ...   \n",
       "95803    ['male']                                         ['golfer']   \n",
       "95804    ['male']                                         ['priest']   \n",
       "95805    ['male']                        ['politician', 'historian']   \n",
       "95806    ['male']                        ['politician', 'economist']   \n",
       "95807    ['male']               ['Australian rules football player']   \n",
       "\n",
       "                   label    age  \n",
       "0             Tim Farron   51.0  \n",
       "1            Steve Smith   40.0  \n",
       "2          Boris Johnson   57.0  \n",
       "3           Janet Yellen   75.0  \n",
       "4      Martin McGuinness   71.0  \n",
       "...                  ...    ...  \n",
       "95803        David Frost   62.0  \n",
       "95804        Bishop Paul   68.0  \n",
       "95805        Donald Tusk   64.0  \n",
       "95806           Ed Davey   56.0  \n",
       "95807      George Wilson  101.0  \n",
       "\n",
       "[88881 rows x 12 columns]"
      ]
     },
     "execution_count": 3,
     "metadata": {},
     "output_type": "execute_result"
    }
   ],
   "source": [
    "# derive the speakers with the maximum probability\n",
    "speaker_max_prob = df['probas'].apply(lambda x: x[1:-1].split(',')[0])\n",
    "\n",
    "# get rid of redundant symbols in strings\n",
    "speaker_max_prob = speaker_max_prob.apply(lambda x: x.strip('[').replace('\\'',''))\n",
    "\n",
    "# filter out the rows where the speaker assigned is diiferent from the speaker with the maximum probability\n",
    "df = df[df['speaker'] == speaker_max_prob]\n",
    "\n",
    "# filter out the rows where the probability of the asignned speaker is lower than 0.5\n",
    "prob = df['probas'].apply(lambda x: x[1:-1].split(',')).apply(lambda x: x[1].strip(']').replace('\\'',''))\n",
    "df = df[prob.astype(float) > 0.5]\n",
    "\n",
    "df"
   ]
  },
  {
   "cell_type": "code",
   "execution_count": 5,
   "id": "39da0c01",
   "metadata": {
    "scrolled": true
   },
   "outputs": [
    {
     "data": {
      "text/html": [
       "<div>\n",
       "<style scoped>\n",
       "    .dataframe tbody tr th:only-of-type {\n",
       "        vertical-align: middle;\n",
       "    }\n",
       "\n",
       "    .dataframe tbody tr th {\n",
       "        vertical-align: top;\n",
       "    }\n",
       "\n",
       "    .dataframe thead tr th {\n",
       "        text-align: left;\n",
       "    }\n",
       "</style>\n",
       "<table border=\"1\" class=\"dataframe\">\n",
       "  <thead>\n",
       "    <tr>\n",
       "      <th></th>\n",
       "      <th colspan=\"2\" halign=\"left\">speaker_qid</th>\n",
       "    </tr>\n",
       "    <tr>\n",
       "      <th></th>\n",
       "      <th></th>\n",
       "      <th>count</th>\n",
       "    </tr>\n",
       "  </thead>\n",
       "  <tbody>\n",
       "    <tr>\n",
       "      <th>0</th>\n",
       "      <td>Q264766</td>\n",
       "      <td>3285</td>\n",
       "    </tr>\n",
       "    <tr>\n",
       "      <th>1</th>\n",
       "      <td>Q180589</td>\n",
       "      <td>2795</td>\n",
       "    </tr>\n",
       "    <tr>\n",
       "      <th>2</th>\n",
       "      <td>Q318471</td>\n",
       "      <td>1820</td>\n",
       "    </tr>\n",
       "    <tr>\n",
       "      <th>3</th>\n",
       "      <td>Q291169</td>\n",
       "      <td>1528</td>\n",
       "    </tr>\n",
       "    <tr>\n",
       "      <th>4</th>\n",
       "      <td>Q467112</td>\n",
       "      <td>1379</td>\n",
       "    </tr>\n",
       "    <tr>\n",
       "      <th>5</th>\n",
       "      <td>Q946</td>\n",
       "      <td>992</td>\n",
       "    </tr>\n",
       "    <tr>\n",
       "      <th>6</th>\n",
       "      <td>Q1728820</td>\n",
       "      <td>803</td>\n",
       "    </tr>\n",
       "    <tr>\n",
       "      <th>7</th>\n",
       "      <td>Q244312</td>\n",
       "      <td>660</td>\n",
       "    </tr>\n",
       "    <tr>\n",
       "      <th>8</th>\n",
       "      <td>Q1670096</td>\n",
       "      <td>640</td>\n",
       "    </tr>\n",
       "    <tr>\n",
       "      <th>9</th>\n",
       "      <td>Q438465</td>\n",
       "      <td>628</td>\n",
       "    </tr>\n",
       "    <tr>\n",
       "      <th>10</th>\n",
       "      <td>Q333533</td>\n",
       "      <td>606</td>\n",
       "    </tr>\n",
       "    <tr>\n",
       "      <th>11</th>\n",
       "      <td>Q9545</td>\n",
       "      <td>605</td>\n",
       "    </tr>\n",
       "    <tr>\n",
       "      <th>12</th>\n",
       "      <td>Q192533</td>\n",
       "      <td>573</td>\n",
       "    </tr>\n",
       "    <tr>\n",
       "      <th>13</th>\n",
       "      <td>Q574980</td>\n",
       "      <td>538</td>\n",
       "    </tr>\n",
       "    <tr>\n",
       "      <th>14</th>\n",
       "      <td>Q6383803</td>\n",
       "      <td>495</td>\n",
       "    </tr>\n",
       "    <tr>\n",
       "      <th>15</th>\n",
       "      <td>Q18388174</td>\n",
       "      <td>481</td>\n",
       "    </tr>\n",
       "    <tr>\n",
       "      <th>16</th>\n",
       "      <td>Q327790</td>\n",
       "      <td>457</td>\n",
       "    </tr>\n",
       "    <tr>\n",
       "      <th>17</th>\n",
       "      <td>Q1174175</td>\n",
       "      <td>404</td>\n",
       "    </tr>\n",
       "    <tr>\n",
       "      <th>18</th>\n",
       "      <td>Q18921442</td>\n",
       "      <td>394</td>\n",
       "    </tr>\n",
       "    <tr>\n",
       "      <th>19</th>\n",
       "      <td>Q304251</td>\n",
       "      <td>380</td>\n",
       "    </tr>\n",
       "  </tbody>\n",
       "</table>\n",
       "</div>"
      ],
      "text/plain": [
       "   speaker_qid      \n",
       "               count\n",
       "0      Q264766  3285\n",
       "1      Q180589  2795\n",
       "2      Q318471  1820\n",
       "3      Q291169  1528\n",
       "4      Q467112  1379\n",
       "5         Q946   992\n",
       "6     Q1728820   803\n",
       "7      Q244312   660\n",
       "8     Q1670096   640\n",
       "9      Q438465   628\n",
       "10     Q333533   606\n",
       "11       Q9545   605\n",
       "12     Q192533   573\n",
       "13     Q574980   538\n",
       "14    Q6383803   495\n",
       "15   Q18388174   481\n",
       "16     Q327790   457\n",
       "17    Q1174175   404\n",
       "18   Q18921442   394\n",
       "19     Q304251   380"
      ]
     },
     "execution_count": 5,
     "metadata": {},
     "output_type": "execute_result"
    }
   ],
   "source": [
    "df_speaker = df.groupby(['speaker_qid']).agg({'speaker_qid': ['count']}).sort_values(by=('speaker_qid', 'count'), ascending=False)\n",
    "df_speaker = df_speaker[:20].reset_index()\n",
    "df_speaker"
   ]
  },
  {
   "cell_type": "code",
   "execution_count": 6,
   "id": "6fbc6d19",
   "metadata": {
    "scrolled": true
   },
   "outputs": [],
   "source": [
    "df_speaker['Speaker']=['Theresa May','Boris Johnson','Nigel Farage','Jeremy Corbyn','Nicola Sturgeon',\n",
    "                       'Donald Tusk','Leo Varadkar','Vince Cable','Simon Coveney','Michel Barnier',\n",
    "                       'Jeremy Hunt','Tony Blair','Mark Carney','Jacob Rees-Mogg','Keir Starmer',\n",
    "                       'Philip Hammond','Jo Swinson','David Davis','Ian Blackford','Tim Farron']"
   ]
  },
  {
   "cell_type": "code",
   "execution_count": 7,
   "id": "60d238cb",
   "metadata": {
    "scrolled": true
   },
   "outputs": [
    {
     "data": {
      "image/png": "[encoded data removed]",
      "text/plain": [
       "<Figure size 432x288 with 1 Axes>"
      ]
     },
     "metadata": {
      "needs_background": "light"
     },
     "output_type": "display_data"
    }
   ],
   "source": [
    "ax = sns.barplot(data = df_speaker, x = 'Speaker', y=('speaker_qid', 'count'),  color='cornflowerblue',alpha=1)\n",
    "ax.set_xticklabels(df_speaker['Speaker'], rotation=90)\n",
    "ax.set_title('Distribution of the Number of Quotes \\n for the Top 20 speakers')\n",
    "plt.ylabel('Number of quotes')\n",
    "plt.show()"
   ]
  },
  {
   "cell_type": "markdown",
   "id": "2eacfaec",
   "metadata": {},
   "source": [
    "### Where these Quotations come from ?\n",
    "Let's first have a look at where these quotations come from by analyzing the nationalities of different speakers on the Brexit."
   ]
  },
  {
   "cell_type": "code",
   "execution_count": 8,
   "id": "a6dd6b38",
   "metadata": {},
   "outputs": [
    {
     "data": {
      "text/plain": [
       "United Kingdom              53891\n",
       "United States of America    11653\n",
       "Ireland                      6898\n",
       "Australia                    2648\n",
       "Canada                       2342\n",
       "Name: nationality, dtype: int64"
      ]
     },
     "execution_count": 8,
     "metadata": {},
     "output_type": "execute_result"
    }
   ],
   "source": [
    "Nations = brexit_enriched['nationality'].explode().value_counts()\n",
    "Top20_Nations = Nations[:20]\n",
    "Top20_Nations.head()"
   ]
  },
  {
   "cell_type": "code",
   "execution_count": 9,
   "id": "2b17b60a",
   "metadata": {},
   "outputs": [
    {
     "data": {
      "image/png": "[encoded data removed]",
      "text/plain": [
       "<Figure size 432x288 with 1 Axes>"
      ]
     },
     "metadata": {
      "needs_background": "light"
     },
     "output_type": "display_data"
    }
   ],
   "source": [
    "ax = sns.barplot(Top20_Nations.index, Top20_Nations.values,color='cornflowerblue',alpha=1)\n",
    "ax.set_xticklabels(Top20_Nations.index, rotation=90)\n",
    "ax.set_yscale(\"log\")\n",
    "ax.set_title('Distribution of the Number of Quotes \\n for the Top 20 Nationalities')\n",
    "plt.ylabel('Number of quotes')\n",
    "plt.show()"
   ]
  },
  {
   "cell_type": "code",
   "execution_count": 10,
   "id": "95d321de-1fe9-4702-9f50-0f1c9122d0bd",
   "metadata": {},
   "outputs": [
    {
     "data": {
      "image/png": "[encoded data removed]",
      "text/plain": [
       "<Figure size 432x288 with 1 Axes>"
      ]
     },
     "metadata": {
      "needs_background": "light"
     },
     "output_type": "display_data"
    }
   ],
   "source": [
    "ax = sns.barplot(Top20_Nations.values,Top20_Nations.index,alpha=1, orient = \"h\")\n",
    "ax.set_xscale(\"log\")\n",
    "ax.set_title('Distribution of the Number of Quotes for the Top 20 Nationalities')\n",
    "plt.xlabel('Number of quotes')\n",
    "plt.show()"
   ]
  },
  {
   "cell_type": "markdown",
   "id": "7895ec19",
   "metadata": {},
   "source": [
    "After visualizing the top 20 nations talking about the Brexit, it's obvious that most of speakers talking about the Brexit came from dominant countries in the world, for example, the United Kindom, the United States of America, Australia and so on. As this event, Brexit, was mostly about the European situation, we can observe that most countries in the top 20 nations talking about the Brexit were from the Europe, which shows that people care about the Brexit are mostly from the Europe."
   ]
  },
  {
   "cell_type": "markdown",
   "id": "8dbac1a5",
   "metadata": {},
   "source": [
    "### Gender of Speakers about the Brexit"
   ]
  },
  {
   "cell_type": "code",
   "execution_count": 11,
   "id": "59aecd47",
   "metadata": {},
   "outputs": [
    {
     "data": {
      "text/plain": [
       "male                75881\n",
       "female              19200\n",
       "eunuch                 31\n",
       "cisgender female       26\n",
       "non-binary             14\n",
       "Name: gender, dtype: int64"
      ]
     },
     "execution_count": 11,
     "metadata": {},
     "output_type": "execute_result"
    }
   ],
   "source": [
    "Gender = brexit_enriched['gender'].explode().value_counts()\n",
    "Gender.head()"
   ]
  },
  {
   "cell_type": "code",
   "execution_count": 12,
   "id": "5d056189",
   "metadata": {},
   "outputs": [
    {
     "data": {
      "image/png": "[encoded data removed]",
      "text/plain": [
       "<Figure size 432x288 with 1 Axes>"
      ]
     },
     "metadata": {
      "needs_background": "light"
     },
     "output_type": "display_data"
    }
   ],
   "source": [
    "ax = sns.barplot(Gender.index, Gender.values,color='cornflowerblue',alpha=1)\n",
    "ax.set_xticklabels(Gender.index, rotation=90)\n",
    "ax.set_yscale(\"log\")\n",
    "ax.set_title('Distribution of the Number of Quotes \\n for Different Genders')\n",
    "plt.ylabel('Number of quotes')\n",
    "plt.show()"
   ]
  },
  {
   "cell_type": "markdown",
   "id": "7fb147a3",
   "metadata": {},
   "source": [
    "### Speakers' occupation behind Brexit-related quotations"
   ]
  },
  {
   "cell_type": "code",
   "execution_count": 13,
   "id": "49720fe0",
   "metadata": {},
   "outputs": [
    {
     "data": {
      "text/plain": [
       "politician    54383\n",
       "journalist     9374\n",
       "writer         8021\n",
       "lawyer         6583\n",
       "economist      4894\n",
       "Name: occupation, dtype: int64"
      ]
     },
     "execution_count": 13,
     "metadata": {},
     "output_type": "execute_result"
    }
   ],
   "source": [
    "Occupations = brexit_enriched['occupation'].explode().value_counts()\n",
    "Top20_Occupations = Occupations[:20]\n",
    "Top20_Occupations.head()"
   ]
  },
  {
   "cell_type": "code",
   "execution_count": 14,
   "id": "bd76f63a",
   "metadata": {},
   "outputs": [
    {
     "data": {
      "image/png": "[encoded data removed]",
      "text/plain": [
       "<Figure size 432x288 with 1 Axes>"
      ]
     },
     "metadata": {
      "needs_background": "light"
     },
     "output_type": "display_data"
    }
   ],
   "source": [
    "ax = sns.barplot(Top20_Occupations.index, Top20_Occupations.values,color='cornflowerblue',alpha=1)\n",
    "ax.set_xticklabels(Top20_Occupations.index, rotation=90)\n",
    "ax.set_yscale(\"log\")\n",
    "ax.set_title('Distribution of the Number of Quotes \\n for the Top 20 Occupations')\n",
    "plt.ylabel('Number of quotes')\n",
    "plt.show()"
   ]
  },
  {
   "cell_type": "markdown",
   "id": "296ec72f-345d-4c61-9564-6a6c797e3a1b",
   "metadata": {},
   "source": [
    "### Quotations numbers change from 2016 to 2020\n",
    "We want to see how the number of quotations change from 2016 to 2020. In this way, we can obtain the popularity change of Brexit in this period."
   ]
  },
  {
   "cell_type": "code",
   "execution_count": 15,
   "id": "c5f26c28-1076-41ef-a01c-fc6b37a50550",
   "metadata": {},
   "outputs": [
    {
     "data": {
      "text/html": [
       "<div>\n",
       "<style scoped>\n",
       "    .dataframe tbody tr th:only-of-type {\n",
       "        vertical-align: middle;\n",
       "    }\n",
       "\n",
       "    .dataframe tbody tr th {\n",
       "        vertical-align: top;\n",
       "    }\n",
       "\n",
       "    .dataframe thead th {\n",
       "        text-align: right;\n",
       "    }\n",
       "</style>\n",
       "<table border=\"1\" class=\"dataframe\">\n",
       "  <thead>\n",
       "    <tr style=\"text-align: right;\">\n",
       "      <th></th>\n",
       "      <th>year</th>\n",
       "      <th>month</th>\n",
       "      <th>count</th>\n",
       "      <th>year_month</th>\n",
       "    </tr>\n",
       "  </thead>\n",
       "  <tbody>\n",
       "    <tr>\n",
       "      <th>0</th>\n",
       "      <td>2016</td>\n",
       "      <td>01</td>\n",
       "      <td>1</td>\n",
       "      <td>2016-01</td>\n",
       "    </tr>\n",
       "    <tr>\n",
       "      <th>1</th>\n",
       "      <td>2016</td>\n",
       "      <td>02</td>\n",
       "      <td>154</td>\n",
       "      <td>2016-02</td>\n",
       "    </tr>\n",
       "    <tr>\n",
       "      <th>2</th>\n",
       "      <td>2016</td>\n",
       "      <td>03</td>\n",
       "      <td>2</td>\n",
       "      <td>2016-03</td>\n",
       "    </tr>\n",
       "    <tr>\n",
       "      <th>3</th>\n",
       "      <td>2016</td>\n",
       "      <td>04</td>\n",
       "      <td>166</td>\n",
       "      <td>2016-04</td>\n",
       "    </tr>\n",
       "    <tr>\n",
       "      <th>4</th>\n",
       "      <td>2016</td>\n",
       "      <td>05</td>\n",
       "      <td>498</td>\n",
       "      <td>2016-05</td>\n",
       "    </tr>\n",
       "  </tbody>\n",
       "</table>\n",
       "</div>"
      ],
      "text/plain": [
       "   year month  count year_month\n",
       "0  2016    01      1    2016-01\n",
       "1  2016    02    154    2016-02\n",
       "2  2016    03      2    2016-03\n",
       "3  2016    04    166    2016-04\n",
       "4  2016    05    498    2016-05"
      ]
     },
     "execution_count": 15,
     "metadata": {},
     "output_type": "execute_result"
    }
   ],
   "source": [
    "df[\"year\"] = df[\"date\"].apply(lambda x :x.split(\"-\")[0])\n",
    "df[\"month\"] = df[\"date\"].apply(lambda x :x.split(\"-\")[1])\n",
    "change_by_year = df.groupby([\"year\",\"month\"])[\"date\"].count().reset_index()\n",
    "change_by_year.rename(columns={\"date\": \"count\"},inplace = True)\n",
    "change_by_year[\"year_month\"] = change_by_year.year + \"-\" + change_by_year.month\n",
    "change_by_year.head()"
   ]
  },
  {
   "cell_type": "code",
   "execution_count": 16,
   "id": "a6d99d15-52d1-40d9-a01c-e82e1cd3454e",
   "metadata": {},
   "outputs": [
    {
     "data": {
      "image/png": "[encoded data removed]",
      "text/plain": [
       "<Figure size 864x432 with 1 Axes>"
      ]
     },
     "metadata": {
      "needs_background": "light"
     },
     "output_type": "display_data"
    }
   ],
   "source": [
    "plt.figure(figsize=(12,6))\n",
    "ax = sns.lineplot(data = change_by_year, x = 'year_month', y= 'count',  color='cornflowerblue',alpha=1)\n",
    "ax.set_xticklabels(change_by_year['year_month'], rotation=90)\n",
    "ax.set_title('The Quotation Number Change from 2016 to 2020')\n",
    "plt.ylabel('Number of quotes')\n",
    "plt.show()"
   ]
  },
  {
   "cell_type": "markdown",
   "id": "117dab4d-b3b8-4035-9854-29a47a719b81",
   "metadata": {},
   "source": []
  },
  {
   "cell_type": "markdown",
   "id": "1d053fba-29cb-4769-96ff-fa724017926c",
   "metadata": {},
   "source": [
    "### Topic Detection"
   ]
  },
  {
   "cell_type": "code",
   "execution_count": 16,
   "id": "d5c63382-9539-46fa-9202-e0f13f75912e",
   "metadata": {},
   "outputs": [
    {
     "data": {
      "text/html": [
       "<div>\n",
       "<style scoped>\n",
       "    .dataframe tbody tr th:only-of-type {\n",
       "        vertical-align: middle;\n",
       "    }\n",
       "\n",
       "    .dataframe tbody tr th {\n",
       "        vertical-align: top;\n",
       "    }\n",
       "\n",
       "    .dataframe thead th {\n",
       "        text-align: right;\n",
       "    }\n",
       "</style>\n",
       "<table border=\"1\" class=\"dataframe\">\n",
       "  <thead>\n",
       "    <tr style=\"text-align: right;\">\n",
       "      <th></th>\n",
       "      <th>date</th>\n",
       "      <th>quotation</th>\n",
       "    </tr>\n",
       "  </thead>\n",
       "  <tbody>\n",
       "    <tr>\n",
       "      <th>0</th>\n",
       "      <td>2016-09-07</td>\n",
       "      <td>Corbyn shows his true colours. Rather than att...</td>\n",
       "    </tr>\n",
       "    <tr>\n",
       "      <th>1</th>\n",
       "      <td>2016-08-11</td>\n",
       "      <td>People are nervous and universities are being ...</td>\n",
       "    </tr>\n",
       "    <tr>\n",
       "      <th>2</th>\n",
       "      <td>2016-07-05</td>\n",
       "      <td>best placed to help forge a great post Brexit ...</td>\n",
       "    </tr>\n",
       "    <tr>\n",
       "      <th>3</th>\n",
       "      <td>2016-12-14</td>\n",
       "      <td>In the run-up to the Brexit vote earlier this ...</td>\n",
       "    </tr>\n",
       "    <tr>\n",
       "      <th>4</th>\n",
       "      <td>2016-07-25</td>\n",
       "      <td>On the issue of Brexit, I speak for the people...</td>\n",
       "    </tr>\n",
       "  </tbody>\n",
       "</table>\n",
       "</div>"
      ],
      "text/plain": [
       "         date                                          quotation\n",
       "0  2016-09-07  Corbyn shows his true colours. Rather than att...\n",
       "1  2016-08-11  People are nervous and universities are being ...\n",
       "2  2016-07-05  best placed to help forge a great post Brexit ...\n",
       "3  2016-12-14  In the run-up to the Brexit vote earlier this ...\n",
       "4  2016-07-25  On the issue of Brexit, I speak for the people..."
      ]
     },
     "execution_count": 16,
     "metadata": {},
     "output_type": "execute_result"
    }
   ],
   "source": [
    "qutation_data = df[[\"date\",\"quotation\"]]\n",
    "qutation_data.head()"
   ]
  },
  {
   "cell_type": "markdown",
   "id": "d2941519-3a0c-4253-accc-58f9f2bf72c7",
   "metadata": {},
   "source": [
    "#### Build Tokenizer\n",
    "Here we build a tokenizer. This will, for every quotation:\n",
    "1. lowercase the text and clean it (separate function)\n",
    "2. break the descriptions into sentences and then break the sentences into tokens\n",
    "3. remove punctuation, stop words\n",
    "The first step is done by the clean_text function defined below.\n",
    "\n",
    "Tokenization is a process to seprate the sentences into single words and punctuations.The second step is done by sent_tokenize from nltk.tokenize and word_tokenize from nltk.tokenize.\n",
    "\n",
    "Stop words are a set of commonly used words in a language. Examples of stop words in English are “a”, “the”, “is”, “are” and etc. We have adopted stopwords file from https://github.com/ahmedbesbes/How-to-mine-newsfeed-data-and-extract-interactive-insights-in-Python/blob/master/data/stopwords.txt. We also add the stopword from nltk.corpus. Here you can also add your stopword into the additional_stop_words list."
   ]
  },
  {
   "cell_type": "code",
   "execution_count": 17,
   "id": "ad9faecb-0aa9-4e0e-beee-830330076bf1",
   "metadata": {},
   "outputs": [],
   "source": [
    "# They remove non ascii characters and standardize the text (can't -> cannot, i'm -> i am). This will make the tokenization process more efficient.\n",
    "def _removeNonAscii(s): \n",
    "    return \"\".join(i for i in s if ord(i)<128)\n",
    "\n",
    "def clean_text(text):\n",
    "    text = text.lower()\n",
    "    text = re.sub(r\"what's\", \"what is \", text)\n",
    "    text = text.replace('(ap)', '')\n",
    "    text = re.sub(r\"\\'s\", \" is \", text)\n",
    "    text = re.sub(r\"\\'ve\", \" have \", text)\n",
    "    text = re.sub(r\"can't\", \"cannot \", text)\n",
    "    text = re.sub(r\"n't\", \" not \", text)\n",
    "    text = re.sub(r\"i'm\", \"i am \", text)\n",
    "    text = re.sub(r\"\\'re\", \" are \", text)\n",
    "    text = re.sub(r\"\\'d\", \" would \", text)\n",
    "    text = re.sub(r\"\\'ll\", \" will \", text)\n",
    "    text = re.sub(r'\\W+', ' ', text)\n",
    "    text = re.sub(r'\\s+', ' ', text)\n",
    "    text = re.sub(r\"\\\\\", \"\", text)\n",
    "    text = re.sub(r\"\\'\", \"\", text)    \n",
    "    text = re.sub(r\"\\\"\", \"\", text)\n",
    "    text = re.sub('[^a-zA-Z ?!]+', '', text)\n",
    "    text = _removeNonAscii(text)\n",
    "    text = text.strip()\n",
    "    return text"
   ]
  },
  {
   "cell_type": "code",
   "execution_count": 18,
   "id": "a4801e50-443b-4210-8c44-58ae9978e829",
   "metadata": {},
   "outputs": [
    {
     "name": "stdout",
     "output_type": "stream",
     "text": [
      "The total stopword is 847\n"
     ]
    }
   ],
   "source": [
    "stop_words = []\n",
    "\n",
    "# load the stopwords file \n",
    "f = open('stopwords.txt', 'r')\n",
    "for l in f.readlines():\n",
    "    stop_words.append(l.replace('\\n', ''))\n",
    "\n",
    "# interface for adding words to the stop_words list\n",
    "additional_stop_words = ['t', 'will']\n",
    "stop_words =  stop_words + additional_stop_words + stopwords.words('english')\n",
    "print(\"The total stopword is {}\".format(len(stop_words)))"
   ]
  },
  {
   "cell_type": "code",
   "execution_count": 19,
   "id": "40ed5f8b-3d01-4d94-a68f-d519a195fc6a",
   "metadata": {},
   "outputs": [],
   "source": [
    "def tokenizer(text):\n",
    "    text = clean_text(text)    \n",
    "    tokens = [word_tokenize(sent) for sent in sent_tokenize(text)]\n",
    "    tokens = list(reduce(lambda x,y: x+y, tokens))\n",
    "    tokens = list(filter(lambda token: token not in (stop_words + list(punctuation)) , tokens))\n",
    "    return tokens"
   ]
  },
  {
   "cell_type": "code",
   "execution_count": 20,
   "id": "3c608b2e-52c2-43eb-b4bf-3ff9cc775623",
   "metadata": {},
   "outputs": [
    {
     "data": {
      "application/vnd.jupyter.widget-view+json": {
       "model_id": "3121fe32cd4b44e9a4c6ccbc0d9bada4",
       "version_major": 2,
       "version_minor": 0
      },
      "text/plain": [
       "progress-bar:   0%|          | 0/88881 [00:00<?, ?it/s]"
      ]
     },
     "metadata": {},
     "output_type": "display_data"
    }
   ],
   "source": [
    "qutation_data['tokens'] = qutation_data['quotation'].progress_map(lambda d: tokenizer(d))"
   ]
  },
  {
   "cell_type": "code",
   "execution_count": 21,
   "id": "4ce52f0e-5a55-444b-881c-ce7f302c9e90",
   "metadata": {},
   "outputs": [
    {
     "data": {
      "text/html": [
       "<div>\n",
       "<style scoped>\n",
       "    .dataframe tbody tr th:only-of-type {\n",
       "        vertical-align: middle;\n",
       "    }\n",
       "\n",
       "    .dataframe tbody tr th {\n",
       "        vertical-align: top;\n",
       "    }\n",
       "\n",
       "    .dataframe thead th {\n",
       "        text-align: right;\n",
       "    }\n",
       "</style>\n",
       "<table border=\"1\" class=\"dataframe\">\n",
       "  <thead>\n",
       "    <tr style=\"text-align: right;\">\n",
       "      <th></th>\n",
       "      <th>date</th>\n",
       "      <th>quotation</th>\n",
       "      <th>tokens</th>\n",
       "    </tr>\n",
       "  </thead>\n",
       "  <tbody>\n",
       "    <tr>\n",
       "      <th>0</th>\n",
       "      <td>2016-09-07</td>\n",
       "      <td>Corbyn shows his true colours. Rather than att...</td>\n",
       "      <td>[corbyn, true, colours, attacking, divided, br...</td>\n",
       "    </tr>\n",
       "    <tr>\n",
       "      <th>1</th>\n",
       "      <td>2016-08-11</td>\n",
       "      <td>People are nervous and universities are being ...</td>\n",
       "      <td>[people, nervous, universities, defensive, eu,...</td>\n",
       "    </tr>\n",
       "    <tr>\n",
       "      <th>2</th>\n",
       "      <td>2016-07-05</td>\n",
       "      <td>best placed to help forge a great post Brexit ...</td>\n",
       "      <td>[best, help, forge, great, post, brexit, futur...</td>\n",
       "    </tr>\n",
       "    <tr>\n",
       "      <th>3</th>\n",
       "      <td>2016-12-14</td>\n",
       "      <td>In the run-up to the Brexit vote earlier this ...</td>\n",
       "      <td>[brexit, vote, earlier, year, fed, policymaker...</td>\n",
       "    </tr>\n",
       "    <tr>\n",
       "      <th>4</th>\n",
       "      <td>2016-07-25</td>\n",
       "      <td>On the issue of Brexit, I speak for the people...</td>\n",
       "      <td>[issue, brexit, speak, people, north, people, ...</td>\n",
       "    </tr>\n",
       "  </tbody>\n",
       "</table>\n",
       "</div>"
      ],
      "text/plain": [
       "         date                                          quotation  \\\n",
       "0  2016-09-07  Corbyn shows his true colours. Rather than att...   \n",
       "1  2016-08-11  People are nervous and universities are being ...   \n",
       "2  2016-07-05  best placed to help forge a great post Brexit ...   \n",
       "3  2016-12-14  In the run-up to the Brexit vote earlier this ...   \n",
       "4  2016-07-25  On the issue of Brexit, I speak for the people...   \n",
       "\n",
       "                                              tokens  \n",
       "0  [corbyn, true, colours, attacking, divided, br...  \n",
       "1  [people, nervous, universities, defensive, eu,...  \n",
       "2  [best, help, forge, great, post, brexit, futur...  \n",
       "3  [brexit, vote, earlier, year, fed, policymaker...  \n",
       "4  [issue, brexit, speak, people, north, people, ...  "
      ]
     },
     "execution_count": 21,
     "metadata": {},
     "output_type": "execute_result"
    }
   ],
   "source": [
    "qutation_data.head()"
   ]
  },
  {
   "cell_type": "markdown",
   "id": "02ffb81a-8f3c-492a-aa9a-df47c9f730c6",
   "metadata": {},
   "source": [
    "#### Part of Speech Tagging and Lemmatization\n",
    "Lemmatisation is the process of grouping together the inflected forms of a word so they can be analysed as a single item, identified by the word's lemma, or dictionary form. Unlike stemming, lemmatisation depends on correctly identifying the intended part of speech and meaning of a word in a sentence, as well as within the larger context surrounding that sentence, such as neighboring sentences or even an entire document.\n",
    "\n",
    "Generally, lemmatization is followed by Part of Speech Tagging (POS-Tag), which is the labeling of the words in a text according to their word types (noun, adjective, adverb, verb, etc.) POS tagging is a supervised learning solution that uses features like the previous word, next word, is first letter capitalized etc. NLTK has a function to get pos tags and it works after tokenization process. Detailed tags can be found here(https://www.ling.upenn.edu/courses/Fall_2003/ling001/penn_treebank_pos.html).\n",
    "\n",
    "NLTK provides WordNetLemmatizer class which is a thin wrapper around the wordnet corpus."
   ]
  },
  {
   "cell_type": "code",
   "execution_count": 22,
   "id": "39503345-8ec6-445c-a371-5709e50229ae",
   "metadata": {},
   "outputs": [
    {
     "data": {
      "application/vnd.jupyter.widget-view+json": {
       "model_id": "6155f4dae9a44ce481811fbbe75582d5",
       "version_major": 2,
       "version_minor": 0
      },
      "text/plain": [
       "progress-bar:   0%|          | 0/88881 [00:00<?, ?it/s]"
      ]
     },
     "metadata": {},
     "output_type": "display_data"
    }
   ],
   "source": [
    "qutation_data['POS_tokens'] = qutation_data['tokens'].progress_map(lambda tokens: pos_tag(tokens))"
   ]
  },
  {
   "cell_type": "code",
   "execution_count": 23,
   "id": "44e23031-b114-446f-b366-a42ae55d820e",
   "metadata": {},
   "outputs": [
    {
     "data": {
      "text/html": [
       "<div>\n",
       "<style scoped>\n",
       "    .dataframe tbody tr th:only-of-type {\n",
       "        vertical-align: middle;\n",
       "    }\n",
       "\n",
       "    .dataframe tbody tr th {\n",
       "        vertical-align: top;\n",
       "    }\n",
       "\n",
       "    .dataframe thead th {\n",
       "        text-align: right;\n",
       "    }\n",
       "</style>\n",
       "<table border=\"1\" class=\"dataframe\">\n",
       "  <thead>\n",
       "    <tr style=\"text-align: right;\">\n",
       "      <th></th>\n",
       "      <th>date</th>\n",
       "      <th>quotation</th>\n",
       "      <th>tokens</th>\n",
       "      <th>POS_tokens</th>\n",
       "    </tr>\n",
       "  </thead>\n",
       "  <tbody>\n",
       "    <tr>\n",
       "      <th>0</th>\n",
       "      <td>2016-09-07</td>\n",
       "      <td>Corbyn shows his true colours. Rather than att...</td>\n",
       "      <td>[corbyn, true, colours, attacking, divided, br...</td>\n",
       "      <td>[(corbyn, NN), (true, JJ), (colours, NNS), (at...</td>\n",
       "    </tr>\n",
       "    <tr>\n",
       "      <th>1</th>\n",
       "      <td>2016-08-11</td>\n",
       "      <td>People are nervous and universities are being ...</td>\n",
       "      <td>[people, nervous, universities, defensive, eu,...</td>\n",
       "      <td>[(people, NNS), (nervous, JJ), (universities, ...</td>\n",
       "    </tr>\n",
       "    <tr>\n",
       "      <th>2</th>\n",
       "      <td>2016-07-05</td>\n",
       "      <td>best placed to help forge a great post Brexit ...</td>\n",
       "      <td>[best, help, forge, great, post, brexit, futur...</td>\n",
       "      <td>[(best, JJS), (help, NN), (forge, VB), (great,...</td>\n",
       "    </tr>\n",
       "    <tr>\n",
       "      <th>3</th>\n",
       "      <td>2016-12-14</td>\n",
       "      <td>In the run-up to the Brexit vote earlier this ...</td>\n",
       "      <td>[brexit, vote, earlier, year, fed, policymaker...</td>\n",
       "      <td>[(brexit, NN), (vote, NN), (earlier, RBR), (ye...</td>\n",
       "    </tr>\n",
       "    <tr>\n",
       "      <th>4</th>\n",
       "      <td>2016-07-25</td>\n",
       "      <td>On the issue of Brexit, I speak for the people...</td>\n",
       "      <td>[issue, brexit, speak, people, north, people, ...</td>\n",
       "      <td>[(issue, NN), (brexit, NN), (speak, JJ), (peop...</td>\n",
       "    </tr>\n",
       "  </tbody>\n",
       "</table>\n",
       "</div>"
      ],
      "text/plain": [
       "         date                                          quotation  \\\n",
       "0  2016-09-07  Corbyn shows his true colours. Rather than att...   \n",
       "1  2016-08-11  People are nervous and universities are being ...   \n",
       "2  2016-07-05  best placed to help forge a great post Brexit ...   \n",
       "3  2016-12-14  In the run-up to the Brexit vote earlier this ...   \n",
       "4  2016-07-25  On the issue of Brexit, I speak for the people...   \n",
       "\n",
       "                                              tokens  \\\n",
       "0  [corbyn, true, colours, attacking, divided, br...   \n",
       "1  [people, nervous, universities, defensive, eu,...   \n",
       "2  [best, help, forge, great, post, brexit, futur...   \n",
       "3  [brexit, vote, earlier, year, fed, policymaker...   \n",
       "4  [issue, brexit, speak, people, north, people, ...   \n",
       "\n",
       "                                          POS_tokens  \n",
       "0  [(corbyn, NN), (true, JJ), (colours, NNS), (at...  \n",
       "1  [(people, NNS), (nervous, JJ), (universities, ...  \n",
       "2  [(best, JJS), (help, NN), (forge, VB), (great,...  \n",
       "3  [(brexit, NN), (vote, NN), (earlier, RBR), (ye...  \n",
       "4  [(issue, NN), (brexit, NN), (speak, JJ), (peop...  "
      ]
     },
     "execution_count": 23,
     "metadata": {},
     "output_type": "execute_result"
    }
   ],
   "source": [
    "qutation_data.head()\n"
   ]
  },
  {
   "cell_type": "code",
   "execution_count": 24,
   "id": "11042c35-cefd-4b44-bea9-2e5f23aecf95",
   "metadata": {},
   "outputs": [
    {
     "data": {
      "application/vnd.jupyter.widget-view+json": {
       "model_id": "6c8e4626ce4440968c2254220ff75dd7",
       "version_major": 2,
       "version_minor": 0
      },
      "text/plain": [
       "progress-bar:   0%|          | 0/88881 [00:00<?, ?it/s]"
      ]
     },
     "metadata": {},
     "output_type": "display_data"
    }
   ],
   "source": [
    "def get_wordnet_pos(treebank_tag):\n",
    "\n",
    "    if treebank_tag.startswith('J'):\n",
    "        return wordnet.ADJ\n",
    "    elif treebank_tag.startswith('V'):\n",
    "        return wordnet.VERB\n",
    "    elif treebank_tag.startswith('N'):\n",
    "        return wordnet.NOUN\n",
    "    elif treebank_tag.startswith('R'):\n",
    "        return wordnet.ADV\n",
    "    else:\n",
    "        return ''\n",
    "\n",
    "lemmatizer = WordNetLemmatizer()\n",
    "qutation_data['tokens_after_lemmatized'] = qutation_data['POS_tokens'].progress_map(\n",
    "    lambda list_tokens_POS:\n",
    "        [\n",
    "            lemmatizer.lemmatize(el[0], get_wordnet_pos(el[1])) \n",
    "            if get_wordnet_pos(el[1]) != '' else el[0] for el in list_tokens_POS\n",
    "        ] \n",
    "        \n",
    ")"
   ]
  },
  {
   "cell_type": "markdown",
   "id": "a0d24b7b-14b0-4019-ac87-241d4e4d6ba5",
   "metadata": {},
   "source": [
    "#### Phrase detection\n",
    "We need to automatically detect common phrases like multi-word expressions, word n-gram collocations from a stream of tokens. Here we use bigram and trigram"
   ]
  },
  {
   "cell_type": "code",
   "execution_count": 25,
   "id": "c31c86d0-875e-46a4-b7ae-2f0b7c14d852",
   "metadata": {},
   "outputs": [],
   "source": [
    "tokens = qutation_data['tokens_after_lemmatized'].tolist()\n",
    "bigram_model = Phrases(tokens)\n",
    "trigram_model = Phrases(bigram_model[tokens], min_count=1)\n",
    "tokens = list(trigram_model[bigram_model[tokens]])"
   ]
  },
  {
   "cell_type": "markdown",
   "id": "e850944b-2065-4e5e-9c13-1379976c3068",
   "metadata": {},
   "source": [
    "#### Create the dictionary\n",
    "In Gensim, the dictionary object is used to create a bag of words (BoW) corpus which further used as the input to topic modelling and other models as well.\n",
    "\n",
    "Corpus − It refers to a collection of documents as a bag of words (BoW).\n",
    "\n",
    "Here we define three functions:\n",
    "1. LDA_model, this function returns the LDA model\n",
    "2. compute_coherence, this function is used to compute coherence score to evaluate the LDA model\n",
    "3. display_topics, function to display topics and corresponding keywords:\n",
    "3. explore model. this is a tuning function, used to explore different topics of LDA models."
   ]
  },
  {
   "cell_type": "code",
   "execution_count": 26,
   "id": "f83b7d53-80ae-4c87-992a-a36a69a7e1b2",
   "metadata": {},
   "outputs": [],
   "source": [
    "dict_LDA = corpora.Dictionary(tokens)\n",
    "dict_LDA.filter_extremes(no_below=1)\n",
    "corpus = [dict_LDA.doc2bow(tok) for tok in tokens]\n",
    "\n",
    "def LDA_model(num_topics,corpus, id2word, passes=1):\n",
    "    return gensim.models.ldamodel.LdaModel(corpus=corpus,\n",
    "                                               id2word=id2word,\n",
    "                                               num_topics=num_topics, \n",
    "                                               random_state=100,\n",
    "                                               eval_every=10,\n",
    "                                               chunksize=2000,\n",
    "                                               passes=passes,\n",
    "                                               per_word_topics=True\n",
    "                                            )\n",
    "def compute_coherence(model,tokens, id2word):\n",
    "    coherence = CoherenceModel(model=model, \n",
    "                           texts=tokens,\n",
    "                           dictionary=id2word, coherence='c_v')\n",
    "    return coherence.get_coherence()\n",
    "\n",
    "def display_topics(model, num_words=10):\n",
    "    topics = model.show_topics(num_topics=model.num_topics, formatted=False, num_words=num_words)\n",
    "    topics = map(lambda c: map(lambda cc: cc[0], c[1]), topics)\n",
    "    df = pd.DataFrame(topics)\n",
    "    df.index = ['topic_{0}'.format(i) for i in range(model.num_topics)]\n",
    "    df.columns = ['keyword_{0}'.format(i) for i in range(1, num_words+1)]\n",
    "    return df\n",
    "\n",
    "def explore_models(corpus, id2word, tokens, rg=range(5, 25)):\n",
    "    models = []\n",
    "    coherences = []\n",
    "    \n",
    "    for num_topics in rg:\n",
    "        lda_model = LDA_model(num_topics,corpus, id2word, passes=5)\n",
    "        models.append(lda_model)\n",
    "        coherence = compute_coherence(lda_model, tokens, id2word)\n",
    "        coherences.append(coherence)\n",
    "      \n",
    "    fig = plt.figure(figsize=(15, 5))\n",
    "    plt.title('Choosing the optimal number of topics')\n",
    "    plt.xlabel('Number of topics')\n",
    "    plt.ylabel('Coherence')\n",
    "    plt.grid(True)\n",
    "    plt.plot(rg, coherences)\n",
    "    \n",
    "    return coherences, models\n"
   ]
  },
  {
   "cell_type": "code",
   "execution_count": null,
   "id": "79694ff0-7981-47e9-a9ab-4e67f6259bc2",
   "metadata": {},
   "outputs": [],
   "source": [
    "coherences, models = explore_models(corpus, dict_LDA, tokens, rg=range(3, 9))"
   ]
  },
  {
   "cell_type": "code",
   "execution_count": 27,
   "id": "194f17ea-9ceb-4cbf-9252-7c8eb99ec1da",
   "metadata": {},
   "outputs": [
    {
     "data": {
      "text/html": [
       "<div>\n",
       "<style scoped>\n",
       "    .dataframe tbody tr th:only-of-type {\n",
       "        vertical-align: middle;\n",
       "    }\n",
       "\n",
       "    .dataframe tbody tr th {\n",
       "        vertical-align: top;\n",
       "    }\n",
       "\n",
       "    .dataframe thead th {\n",
       "        text-align: right;\n",
       "    }\n",
       "</style>\n",
       "<table border=\"1\" class=\"dataframe\">\n",
       "  <thead>\n",
       "    <tr style=\"text-align: right;\">\n",
       "      <th></th>\n",
       "      <th>keyword_1</th>\n",
       "      <th>keyword_2</th>\n",
       "      <th>keyword_3</th>\n",
       "      <th>keyword_4</th>\n",
       "      <th>keyword_5</th>\n",
       "    </tr>\n",
       "  </thead>\n",
       "  <tbody>\n",
       "    <tr>\n",
       "      <th>topic_0</th>\n",
       "      <td>deal</td>\n",
       "      <td>people</td>\n",
       "      <td>vote</td>\n",
       "      <td>party</td>\n",
       "      <td>deliver</td>\n",
       "    </tr>\n",
       "    <tr>\n",
       "      <th>topic_1</th>\n",
       "      <td>uk</td>\n",
       "      <td>business</td>\n",
       "      <td>deal</td>\n",
       "      <td>eu</td>\n",
       "      <td>government</td>\n",
       "    </tr>\n",
       "    <tr>\n",
       "      <th>topic_2</th>\n",
       "      <td>general_election</td>\n",
       "      <td>risk</td>\n",
       "      <td>delay</td>\n",
       "      <td>threat</td>\n",
       "      <td>crisis</td>\n",
       "    </tr>\n",
       "    <tr>\n",
       "      <th>topic_3</th>\n",
       "      <td>year</td>\n",
       "      <td>uncertainty</td>\n",
       "      <td>market</td>\n",
       "      <td>economy</td>\n",
       "      <td>deal</td>\n",
       "    </tr>\n",
       "    <tr>\n",
       "      <th>topic_4</th>\n",
       "      <td>scotland</td>\n",
       "      <td>eu</td>\n",
       "      <td>uk</td>\n",
       "      <td>people</td>\n",
       "      <td>deal</td>\n",
       "    </tr>\n",
       "  </tbody>\n",
       "</table>\n",
       "</div>"
      ],
      "text/plain": [
       "                keyword_1    keyword_2 keyword_3 keyword_4   keyword_5\n",
       "topic_0              deal       people      vote     party     deliver\n",
       "topic_1                uk     business      deal        eu  government\n",
       "topic_2  general_election         risk     delay    threat      crisis\n",
       "topic_3              year  uncertainty    market   economy        deal\n",
       "topic_4          scotland           eu        uk    people        deal"
      ]
     },
     "execution_count": 27,
     "metadata": {},
     "output_type": "execute_result"
    }
   ],
   "source": [
    "best_model = LDA_model(num_topics=5, corpus=corpus, id2word=dict_LDA, passes=5)\n",
    "\n",
    "display_topics(model=best_model, num_words=5)"
   ]
  },
  {
   "cell_type": "markdown",
   "id": "6287d7e3-e87f-40ab-a85f-a22aaf60fee7",
   "metadata": {},
   "source": [
    "#### Visualization of LDA model"
   ]
  },
  {
   "cell_type": "code",
   "execution_count": 28,
   "id": "55bb802b-c31a-4be7-9c69-c661011b34c5",
   "metadata": {},
   "outputs": [
    {
     "data": {
      "text/html": [
       "\n",
       "<link rel=\"stylesheet\" type=\"text/css\" href=\"https://cdn.jsdelivr.net/gh/bmabey/pyLDAvis@3.3.1/pyLDAvis/js/ldavis.v1.0.0.css\">\n",
       "\n",
       "\n",
       "<div id=\"ldavis_el27681851483452688487784223\"></div>\n",
       "<script type=\"text/javascript\">\n",
       "\n",
       "var ldavis_el27681851483452688487784223_data = {\"mdsDat\": {\"x\": [-0.20390379937694297, -0.02075738654988544, 0.2154985300611081, -0.17142962197285064, 0.18059227783857096], \"y\": [-0.004894688462748973, -0.12880972187532633, -0.20100363999856857, 0.05909149129185313, 0.27561655904479077], \"topics\": [1, 2, 3, 4, 5], \"cluster\": [1, 1, 1, 1, 1], \"Freq\": [29.980708517907612, 28.60001066967684, 15.552056847196868, 15.375285860454277, 10.491938104764404]}, \"tinfo\": {\"Term\": [\"people\", \"party\", \"uk\", \"vote\", \"business\", \"uncertainty\", \"deliver\", \"scotland\", \"eu\", \"year\", \"go\", \"post\", \"election\", \"market\", \"trade\", \"continue\", \"general_election\", \"labour\", \"risk\", \"prime_minister\", \"thing\", \"leave\", \"tory\", \"boris_johnson\", \"parliament\", \"economy\", \"october\", \"delay\", \"government\", \"northern_ireland\", \"party\", \"election\", \"labour\", \"prime_minister\", \"tory\", \"boris_johnson\", \"conservative\", \"boris\", \"theresa\", \"promise\", \"jeremy_corbyn\", \"brexiteers\", \"fight\", \"sort\", \"conservative_party\", \"win\", \"westminster\", \"british_people\", \"pm\", \"corbyn\", \"labour_party\", \"stop\", \"trust\", \"tell\", \"oppose\", \"candidate\", \"liberal_democrat\", \"seat\", \"nigel_farage\", \"second_referendum\", \"final\", \"fail\", \"deliver\", \"wo\", \"parliament\", \"vote\", \"people\", \"go\", \"thing\", \"mp\", \"deal\", \"country\", \"happen\", \"leader\", \"think\", \"leave\", \"government\", \"time\", \"talk\", \"support\", \"campaign\", \"stand\", \"good\", \"clear\", \"work\", \"day\", \"well\", \"position\", \"hard\", \"remain\", \"business\", \"company\", \"trade\", \"industry\", \"firm\", \"environment\", \"certainty\", \"budget\", \"invest\", \"customer\", \"international\", \"service\", \"investment\", \"activity\", \"region\", \"maintain\", \"address\", \"progress\", \"require\", \"transition_period\", \"develop\", \"fund\", \"clarity\", \"preparation\", \"export\", \"funding\", \"relationship\", \"climate_change\", \"action\", \"operation\", \"post\", \"provide\", \"sector\", \"challenge\", \"ensure\", \"uk\", \"include\", \"ireland\", \"continue\", \"prepare\", \"help\", \"eu\", \"impact\", \"work\", \"negotiation\", \"opportunity\", \"government\", \"plan\", \"economy\", \"support\", \"change\", \"future\", \"deal\", \"process\", \"uncertainty\", \"issue\", \"well\", \"time\", \"market\", \"year\", \"october\", \"johnson\", \"rise\", \"price\", \"pound\", \"low\", \"fall\", \"sterling\", \"factor\", \"rate\", \"news\", \"crash\", \"december\", \"decline\", \"performance\", \"sentiment\", \"outlook\", \"buy\", \"compare\", \"sale\", \"hour\", \"shock\", \"stock\", \"negative\", \"tonight\", \"extreme\", \"slow\", \"save\", \"recession\", \"record\", \"high\", \"uncertainty\", \"expect\", \"increase\", \"year\", \"month\", \"market\", \"despite\", \"growth\", \"confidence\", \"investor\", \"economy\", \"late\", \"cost\", \"risk\", \"remain\", \"impact\", \"continue\", \"worry\", \"deal\", \"uk\", \"move\", \"concern\", \"time\", \"start\", \"scotland\", \"voter\", \"northern_ireland\", \"united_kingdom\", \"prevent\", \"snp\", \"democracy\", \"independence\", \"pro\", \"brexiteer\", \"withdrawal_agreement\", \"common\", \"block\", \"disastrous\", \"legislation\", \"compromise\", \"sensible\", \"alternative\", \"north\", \"claim\", \"night\", \"true\", \"disorderly\", \"catastrophic\", \"care\", \"family\", \"backstop\", \"threaten\", \"promote\", \"favour\", \"irish\", \"accept\", \"matter\", \"decision\", \"debate\", \"simply\", \"rule\", \"eu\", \"leave\", \"europe\", \"people\", \"uk\", \"future\", \"referendum\", \"deal\", \"vote\", \"hard\", \"remain\", \"britain\", \"british\", \"political\", \"government\", \"general_election\", \"threat\", \"table\", \"extension\", \"chaos\", \"disaster\", \"mess\", \"farmer\", \"crisis\", \"story\", \"love\", \"clean_break\", \"cliff_edge\", \"essential\", \"generation\", \"security\", \"desire\", \"massive\", \"era\", \"commission\", \"tackle\", \"health\", \"die\", \"supply\", \"tough\", \"president\", \"good_friday_agreement\", \"solve\", \"year_ahead\", \"altogether\", \"delay\", \"trump\", \"risk\", \"need\", \"face\", \"damage\", \"issue\", \"problem\", \"thing\", \"nhs\", \"deal\", \"job\", \"economy\", \"hard\", \"create\", \"europe\", \"big\", \"britain\", \"country\"], \"Freq\": [9687.0, 5712.0, 10695.0, 7749.0, 4544.0, 4419.0, 4699.0, 2323.0, 6134.0, 5137.0, 4611.0, 3008.0, 2844.0, 2909.0, 2560.0, 3811.0, 1368.0, 2546.0, 2598.0, 2469.0, 3026.0, 3023.0, 2161.0, 2035.0, 2724.0, 3188.0, 1220.0, 1241.0, 6686.0, 1107.0, 5711.679604856084, 2843.779933648002, 2546.1464327515973, 2469.047729002208, 2160.7959688642227, 2034.9545170995336, 1401.2807266941454, 862.6139208477372, 844.1007908187495, 828.8621299916308, 797.7050519557043, 796.6282691789604, 790.7744495773983, 773.8623295618379, 763.2274789061311, 687.766409180609, 665.1318489834874, 651.2474776967819, 651.8914089138964, 642.8958514234693, 594.0612361336599, 534.273829533754, 526.3973322012496, 510.89637340674346, 454.4579130232253, 426.6230198671989, 413.3433749005261, 387.2852685731341, 364.9304580530728, 356.7941207404589, 709.1139672390485, 720.0850705543652, 4353.240981918033, 852.7899601949928, 2484.0689808546013, 6534.193429655531, 7780.59355128702, 3892.909616119864, 2590.736042562879, 1162.08021995787, 11449.554471729663, 3722.5929738516775, 1781.158359008025, 977.6499376396364, 869.5798567931622, 1926.440277951952, 3195.708161323548, 2513.8661774290576, 1301.7718155364205, 1871.2288448175361, 1078.8505585413411, 970.5399021900474, 1498.8446325189082, 1435.1068102157246, 1545.3513495075483, 1063.9569991280325, 1326.7289893620637, 1034.5283777458897, 1180.3085307110368, 1038.9050698928281, 4543.453421316427, 1120.992580576645, 2558.5170247780466, 1079.9255786402323, 596.3663585215971, 517.7368190058265, 494.04295159763046, 558.2740156655041, 480.337801211759, 466.7650435253239, 456.6585887404055, 418.2286254493316, 1179.527212074036, 424.1251272175902, 410.1229212619183, 393.4245000259369, 389.5110750013511, 375.8082987152481, 362.6554049693548, 360.62874444351195, 353.2641990319784, 434.0729569661238, 351.0254522601489, 344.797338581015, 337.58244938451855, 327.7708226190005, 437.36902812127636, 316.9015490615489, 314.21594395551347, 294.78525629458966, 2984.6227960197934, 713.4002151889671, 879.8337536419818, 1592.207185336006, 1575.266195585405, 7820.407973414489, 1142.2271151036562, 1480.9511254484692, 2910.7623832908507, 855.6583836288839, 1230.2694033139617, 3525.074591272475, 1575.3978555379995, 2345.8077681162595, 1415.174024163444, 1264.8799090354848, 3004.4125882531093, 1311.321990087295, 1530.6390991516828, 1586.9251943794332, 1294.8830198531757, 1311.4296159434673, 3725.557409985687, 949.7630088727594, 1518.1863889782571, 1252.863447021991, 1194.797773503565, 1273.7279737035992, 1119.6294369712898, 1179.6776303457889, 1219.271388264597, 855.4398601269253, 633.7853685939848, 591.5888959179382, 568.7757238134403, 472.2854048069557, 429.8074021552677, 424.11910684806753, 414.52059861265815, 391.7108691301451, 367.7361627432205, 331.7126300471152, 332.3901571793906, 301.8731302240134, 299.54964726947634, 268.7644464367134, 266.23513931406995, 253.9845530432927, 252.61724240695366, 249.83483881617258, 246.85064338766531, 238.4165382863367, 234.69050563431128, 230.4161876170211, 229.46827121636062, 227.99706033595425, 224.3791196390239, 217.57551043715506, 209.8793058573528, 208.7275256705494, 568.9518075527342, 2900.875688682772, 1035.5843633084808, 1018.3606067575101, 2933.683621188349, 1025.2181822466027, 1789.114962415898, 573.5029538165661, 667.5138199669271, 555.6398258603177, 330.86491625950146, 1298.1259198703444, 322.83219538069045, 519.4542349218937, 934.3267141279739, 953.6812624307242, 754.1876936406904, 900.2921881596842, 415.9974196918545, 1271.213158752347, 966.1841004522078, 515.4490948800681, 469.3028509991171, 550.3226324526212, 462.7901752310886, 2322.341835936115, 1058.7824151970985, 1105.9323729730263, 677.3206989359568, 597.9484981854899, 515.8850808776921, 513.9541665600175, 478.9912618563815, 481.49701962732524, 472.9186132209972, 434.5983214782226, 422.65200241939084, 375.88389750916474, 363.0944263976926, 340.537847873516, 336.266402703679, 306.2883213427682, 303.89752595971584, 301.5504402345596, 295.65036123626214, 291.3612053038168, 290.1537220652083, 284.57769960054196, 276.20835582614126, 271.2141413673, 266.37368279950084, 256.28879010184687, 256.57436827045194, 246.11561145855768, 243.12260287610582, 602.489701590072, 557.5749555050313, 637.6966177436647, 1085.3063306007748, 802.5045288743664, 466.9086455586161, 504.75411868890205, 1931.9030950547094, 1096.8547562633576, 869.8129901007376, 1905.8118012686243, 1906.372873185844, 773.5243008715124, 667.3100212666702, 1774.0152389767159, 1181.1300020131896, 765.8283127281627, 715.3624085764947, 641.2176560109612, 561.4582765604853, 525.551627714804, 485.54975893861905, 1367.9696115092731, 802.84629332844, 553.4010180634452, 530.4385102808099, 435.5064679960227, 425.17814579515954, 383.14487950497005, 390.64916097963123, 649.571903330787, 331.4512486219081, 322.4972920476084, 263.3409912919413, 255.34909065623606, 246.50035659814316, 239.89656309479662, 237.93787165372862, 213.50463566633178, 211.72026135511706, 210.73244278124452, 208.62401408688655, 198.73040947546136, 198.63178890335337, 194.26669959062085, 191.57572997218247, 185.11930820469638, 185.62901269665082, 183.07743656892416, 179.95352349911997, 191.03116635519817, 173.80931777527746, 924.8602844758891, 635.1361826840839, 1212.866418482138, 278.48593707342866, 490.03925741213186, 380.13718860742, 558.1565252755717, 321.70237066776303, 425.5031678899785, 234.63900706530598, 567.5799295361157, 307.2156408633975, 359.31416231158124, 358.8393599540645, 280.64804150873334, 308.2688122324371, 301.99550301870136, 315.9281426222527, 287.5438688911087], \"Total\": [9687.0, 5712.0, 10695.0, 7749.0, 4544.0, 4419.0, 4699.0, 2323.0, 6134.0, 5137.0, 4611.0, 3008.0, 2844.0, 2909.0, 2560.0, 3811.0, 1368.0, 2546.0, 2598.0, 2469.0, 3026.0, 3023.0, 2161.0, 2035.0, 2724.0, 3188.0, 1220.0, 1241.0, 6686.0, 1107.0, 5712.518874100684, 2844.645843935083, 2546.989603144778, 2469.9164544006826, 2161.6372852783547, 2035.8003296449351, 1402.1194022655834, 863.4576487530935, 844.938062639944, 829.7127705580264, 798.5420395688546, 797.4711949709656, 791.6153554536828, 774.7087422134674, 764.0678577741472, 688.6163655022388, 665.9786846274294, 652.0876848836045, 652.7338135539957, 643.7352431977916, 594.898333255322, 535.1144075485053, 527.2486344282225, 511.74683110883865, 455.2999011763789, 427.46402056295244, 414.1801416053847, 388.12534329535526, 365.76799595191636, 357.6327271981005, 712.109286932877, 724.2192848089915, 4699.512913362852, 879.6890351588199, 2724.920674866361, 7749.723296873383, 9687.051263577796, 4611.880290751902, 3026.110428797404, 1290.00453155917, 18787.920208980533, 5449.245767475283, 2352.135788972214, 1097.9162651255383, 949.5659906397052, 3023.9376099235697, 6686.690853565705, 4865.414969298952, 1814.4317790248315, 3552.2629948007393, 1389.6598714364754, 1156.8784780459741, 2662.904587091786, 2470.105535294225, 3922.341700570654, 1655.5346734621119, 3307.0438745554447, 1578.068259535954, 3231.276162722023, 3058.36575183926, 4544.263868621542, 1121.8002559975785, 2560.3622904713393, 1080.7336155254186, 597.1778360744071, 518.5507128280922, 494.85802135360893, 559.2054939428895, 481.1452825473163, 467.5720866354479, 457.4648297039944, 419.0350714088585, 1181.8074077114147, 424.9545920715102, 410.93444151125914, 394.2339006709876, 390.3224134648217, 376.6186514418073, 363.4669781177607, 361.4450288204676, 354.06984170674, 435.06377356699977, 351.8411722695334, 345.60617761474896, 338.39175633012076, 328.5824428266466, 438.50054015445454, 317.7215821717781, 315.0297798423693, 295.59380049413625, 3008.62120352943, 715.8202977303293, 929.8888549124732, 1771.6125816466417, 1778.5408977949191, 10695.355809726181, 1298.9203939594, 1768.8589813191024, 3811.6528585602423, 1005.1978734682814, 1633.525603839851, 6134.927505953116, 2330.185058922676, 3922.341700570654, 2083.503349051254, 1798.584398862953, 6686.690853565705, 2209.29867768055, 3188.5369586477455, 3552.2629948007393, 2532.8281157474626, 2599.010877981579, 18787.920208980533, 1578.0596133634392, 4419.659243547534, 2930.0059702934054, 3307.0438745554447, 4865.414969298952, 2909.3403756256494, 5137.272955221084, 1220.0936131294577, 856.2743979081029, 634.6006737464089, 592.403626542537, 569.5841751464039, 473.09769171373415, 430.6237149922936, 424.9274510608365, 415.33754105457143, 392.5221328734187, 368.55442616252725, 332.5333989555323, 333.2218748534557, 302.6907931567857, 300.37244414128054, 269.5784628566903, 267.04632867211825, 254.80231874146887, 253.43697140539834, 250.64855235574854, 247.6862440796132, 239.23671382787066, 235.50816289090847, 231.23500698731564, 230.29555089873426, 228.81991854216628, 225.19184274631039, 218.3981510342945, 210.69282152186148, 209.5587102814207, 648.9313308849376, 4419.659243547534, 1342.4713301273323, 1408.9226471057373, 5137.272955221084, 1427.8830591165774, 2909.3403756256494, 821.2650834149813, 1030.9264660560648, 798.1471737919911, 381.01925406950977, 3188.5369586477455, 376.71545827123305, 858.666395069273, 2598.8989279733314, 3058.36575183926, 2330.185058922676, 3811.6528585602423, 639.285658664398, 18787.920208980533, 10695.355809726181, 1705.9307509614832, 1309.4888047690274, 4865.414969298952, 1438.8860775414448, 2323.1642108674587, 1059.6071538033589, 1107.0161255846633, 678.1466488261714, 598.7732793756641, 516.7048937327991, 514.7757137359912, 479.81176333856484, 482.3219292178463, 473.742520663164, 435.4229426496769, 423.47913578852996, 376.7072558895927, 363.9168909810993, 341.3658612196993, 337.0879754251266, 307.1113479369514, 304.72177348710375, 302.37370314181584, 296.4821146136031, 292.1902385658922, 290.98595339535154, 285.41083890523277, 277.0297659165624, 272.0365643952362, 267.2049058098931, 257.10853567068006, 257.4027755794788, 246.9411902443427, 243.94461831078831, 605.1210706890349, 565.174903597101, 762.6903172814098, 1657.691770177314, 1220.6208218048828, 610.4557882148574, 717.4760975943391, 6134.927505953116, 3023.9376099235697, 2147.095169399626, 9687.051263577796, 10695.355809726181, 2599.010877981579, 1857.358166414839, 18787.920208980533, 7749.723296873383, 3231.276162722023, 3058.36575183926, 2823.048958031279, 1818.4046548891768, 1459.2322622325878, 6686.690853565705, 1368.7885722742742, 803.6659988929451, 554.2206583867525, 531.2623109201838, 436.32174696824296, 425.9965806606529, 383.95926485958313, 391.48289380672657, 651.1163005396327, 332.2699442048146, 323.31683699353096, 264.1590611561572, 256.16634890636175, 247.32692268185846, 240.71316030578143, 238.75934491203944, 214.33115636608974, 212.5445106046499, 211.55679963001555, 209.47211572863884, 199.55195564294053, 199.4595088699438, 195.07951232974358, 192.40070211314836, 185.93578757658028, 186.45054429252923, 183.89328234496793, 180.76687096305594, 191.89572311373973, 174.62545015148905, 1241.2030529447802, 858.2140067695254, 2598.8989279733314, 409.2318497223373, 1695.7056582509572, 989.7474009130465, 2930.0059702934054, 934.6462705601091, 3026.110428797404, 369.81172331053006, 18787.920208980533, 1274.9047638586933, 3188.5369586477455, 3231.276162722023, 886.9838275184745, 2147.095169399626, 1821.87334955208, 2823.048958031279, 5449.245767475283], \"Category\": [\"Default\", \"Default\", \"Default\", \"Default\", \"Default\", \"Default\", \"Default\", \"Default\", \"Default\", \"Default\", \"Default\", \"Default\", \"Default\", \"Default\", \"Default\", \"Default\", \"Default\", \"Default\", \"Default\", \"Default\", \"Default\", \"Default\", \"Default\", \"Default\", \"Default\", \"Default\", \"Default\", \"Default\", \"Default\", \"Default\", \"Topic1\", \"Topic1\", \"Topic1\", \"Topic1\", \"Topic1\", \"Topic1\", \"Topic1\", \"Topic1\", \"Topic1\", \"Topic1\", \"Topic1\", \"Topic1\", \"Topic1\", \"Topic1\", \"Topic1\", \"Topic1\", \"Topic1\", \"Topic1\", \"Topic1\", \"Topic1\", \"Topic1\", \"Topic1\", \"Topic1\", \"Topic1\", \"Topic1\", \"Topic1\", \"Topic1\", \"Topic1\", \"Topic1\", \"Topic1\", \"Topic1\", \"Topic1\", \"Topic1\", \"Topic1\", \"Topic1\", \"Topic1\", \"Topic1\", \"Topic1\", \"Topic1\", \"Topic1\", \"Topic1\", \"Topic1\", \"Topic1\", \"Topic1\", \"Topic1\", \"Topic1\", \"Topic1\", \"Topic1\", \"Topic1\", \"Topic1\", \"Topic1\", \"Topic1\", \"Topic1\", \"Topic1\", \"Topic1\", \"Topic1\", \"Topic1\", \"Topic1\", \"Topic1\", \"Topic1\", \"Topic2\", \"Topic2\", \"Topic2\", \"Topic2\", \"Topic2\", \"Topic2\", \"Topic2\", \"Topic2\", \"Topic2\", \"Topic2\", \"Topic2\", \"Topic2\", \"Topic2\", \"Topic2\", \"Topic2\", \"Topic2\", \"Topic2\", \"Topic2\", \"Topic2\", \"Topic2\", \"Topic2\", \"Topic2\", \"Topic2\", \"Topic2\", \"Topic2\", \"Topic2\", \"Topic2\", \"Topic2\", \"Topic2\", \"Topic2\", \"Topic2\", \"Topic2\", \"Topic2\", \"Topic2\", \"Topic2\", \"Topic2\", \"Topic2\", \"Topic2\", \"Topic2\", \"Topic2\", \"Topic2\", \"Topic2\", \"Topic2\", \"Topic2\", \"Topic2\", \"Topic2\", \"Topic2\", \"Topic2\", \"Topic2\", \"Topic2\", \"Topic2\", \"Topic2\", \"Topic2\", \"Topic2\", \"Topic2\", \"Topic2\", \"Topic2\", \"Topic2\", \"Topic2\", \"Topic2\", \"Topic3\", \"Topic3\", \"Topic3\", \"Topic3\", \"Topic3\", \"Topic3\", \"Topic3\", \"Topic3\", \"Topic3\", \"Topic3\", \"Topic3\", \"Topic3\", \"Topic3\", \"Topic3\", \"Topic3\", \"Topic3\", \"Topic3\", \"Topic3\", \"Topic3\", \"Topic3\", \"Topic3\", \"Topic3\", \"Topic3\", \"Topic3\", \"Topic3\", \"Topic3\", \"Topic3\", \"Topic3\", \"Topic3\", \"Topic3\", \"Topic3\", \"Topic3\", \"Topic3\", \"Topic3\", \"Topic3\", \"Topic3\", \"Topic3\", \"Topic3\", \"Topic3\", \"Topic3\", \"Topic3\", \"Topic3\", \"Topic3\", \"Topic3\", \"Topic3\", \"Topic3\", \"Topic3\", \"Topic3\", \"Topic3\", \"Topic3\", \"Topic3\", \"Topic3\", \"Topic3\", \"Topic3\", \"Topic3\", \"Topic4\", \"Topic4\", \"Topic4\", \"Topic4\", \"Topic4\", \"Topic4\", \"Topic4\", \"Topic4\", \"Topic4\", \"Topic4\", \"Topic4\", \"Topic4\", \"Topic4\", \"Topic4\", \"Topic4\", \"Topic4\", \"Topic4\", \"Topic4\", \"Topic4\", \"Topic4\", \"Topic4\", \"Topic4\", \"Topic4\", \"Topic4\", \"Topic4\", \"Topic4\", \"Topic4\", \"Topic4\", \"Topic4\", \"Topic4\", \"Topic4\", \"Topic4\", \"Topic4\", \"Topic4\", \"Topic4\", \"Topic4\", \"Topic4\", \"Topic4\", \"Topic4\", \"Topic4\", \"Topic4\", \"Topic4\", \"Topic4\", \"Topic4\", \"Topic4\", \"Topic4\", \"Topic4\", \"Topic4\", \"Topic4\", \"Topic4\", \"Topic4\", \"Topic4\", \"Topic5\", \"Topic5\", \"Topic5\", \"Topic5\", \"Topic5\", \"Topic5\", \"Topic5\", \"Topic5\", \"Topic5\", \"Topic5\", \"Topic5\", \"Topic5\", \"Topic5\", \"Topic5\", \"Topic5\", \"Topic5\", \"Topic5\", \"Topic5\", \"Topic5\", \"Topic5\", \"Topic5\", \"Topic5\", \"Topic5\", \"Topic5\", \"Topic5\", \"Topic5\", \"Topic5\", \"Topic5\", \"Topic5\", \"Topic5\", \"Topic5\", \"Topic5\", \"Topic5\", \"Topic5\", \"Topic5\", \"Topic5\", \"Topic5\", \"Topic5\", \"Topic5\", \"Topic5\", \"Topic5\", \"Topic5\", \"Topic5\", \"Topic5\", \"Topic5\", \"Topic5\", \"Topic5\", \"Topic5\", \"Topic5\"], \"logprob\": [30.0, 29.0, 28.0, 27.0, 26.0, 25.0, 24.0, 23.0, 22.0, 21.0, 20.0, 19.0, 18.0, 17.0, 16.0, 15.0, 14.0, 13.0, 12.0, 11.0, 10.0, 9.0, 8.0, 7.0, 6.0, 5.0, 4.0, 3.0, 2.0, 1.0, -3.8331, -4.5305, -4.6411, -4.6718, -4.8052, -4.8652, -5.2383, -5.7235, -5.7451, -5.7634, -5.8017, -5.803, -5.8104, -5.832, -5.8459, -5.95, -5.9834, -6.0045, -6.0035, -6.0174, -6.0964, -6.2025, -6.2174, -6.2473, -6.3643, -6.4275, -6.4591, -6.5243, -6.5837, -6.6063, -5.9194, -5.904, -4.1047, -5.7349, -4.6658, -3.6986, -3.524, -4.2165, -4.6237, -5.4255, -3.1377, -4.2612, -4.9984, -5.5983, -5.7154, -4.92, -4.4139, -4.6538, -5.3119, -4.9491, -5.4998, -5.6056, -5.171, -5.2144, -5.1404, -5.5137, -5.2929, -5.5417, -5.4099, -5.5375, -4.0148, -5.4143, -4.5891, -5.4516, -6.0454, -6.1868, -6.2336, -6.1114, -6.2618, -6.2904, -6.3123, -6.4002, -5.3634, -6.3862, -6.4198, -6.4614, -6.4714, -6.5072, -6.5428, -6.5484, -6.5691, -6.3631, -6.5754, -6.5933, -6.6145, -6.644, -6.3555, -6.6777, -6.6862, -6.75, -4.435, -5.8662, -5.6565, -5.0634, -5.0741, -3.4718, -5.3955, -5.1358, -4.4601, -5.6844, -5.3213, -4.2686, -5.074, -4.6759, -5.1813, -5.2935, -4.4284, -5.2575, -5.1028, -5.0667, -5.2701, -5.2574, -4.2133, -5.5801, -5.111, -5.3031, -5.3505, -5.2866, -5.4155, -5.3633, -4.721, -5.0754, -5.3753, -5.4442, -5.4836, -5.6695, -5.7637, -5.777, -5.7999, -5.8565, -5.9197, -6.0228, -6.0207, -6.117, -6.1248, -6.2332, -6.2427, -6.2898, -6.2952, -6.3063, -6.3183, -6.353, -6.3688, -6.3872, -6.3913, -6.3977, -6.4137, -6.4445, -6.4805, -6.486, -5.4833, -3.8543, -4.8843, -4.9011, -3.843, -4.8944, -4.3376, -5.4753, -5.3235, -5.5069, -6.0253, -4.6584, -6.0499, -5.5743, -4.9872, -4.9667, -5.2014, -5.0243, -5.7964, -4.6793, -4.9537, -5.582, -5.6758, -5.5166, -5.6898, -4.0653, -4.8508, -4.8072, -5.2975, -5.4221, -5.5697, -5.5735, -5.6439, -5.6387, -5.6567, -5.7412, -5.7691, -5.8863, -5.921, -5.9851, -5.9977, -6.0911, -6.0989, -6.1067, -6.1264, -6.1411, -6.1452, -6.1646, -6.1945, -6.2127, -6.2307, -6.2693, -6.2682, -6.3098, -6.3221, -5.4146, -5.492, -5.3578, -4.826, -5.1279, -5.6695, -5.5916, -4.2494, -4.8154, -5.0473, -4.263, -4.2627, -5.1647, -5.3124, -4.3346, -4.7414, -5.1747, -5.2428, -5.3523, -5.4851, -5.5512, -5.6303, -4.2124, -4.7453, -5.1174, -5.1598, -5.357, -5.381, -5.4851, -5.4657, -4.9572, -5.63, -5.6574, -5.86, -5.8908, -5.9261, -5.9533, -5.9615, -6.0698, -6.0782, -6.0829, -6.0929, -6.1415, -6.142, -6.1642, -6.1782, -6.2125, -6.2097, -6.2236, -6.2408, -6.181, -6.2755, -4.6038, -4.9796, -4.3327, -5.8041, -5.239, -5.4929, -5.1088, -5.6598, -5.3802, -5.9754, -5.0921, -5.7059, -5.5493, -5.5506, -5.7964, -5.7025, -5.7231, -5.678, -5.7721], \"loglift\": [30.0, 29.0, 28.0, 27.0, 26.0, 25.0, 24.0, 23.0, 22.0, 21.0, 20.0, 19.0, 18.0, 17.0, 16.0, 15.0, 14.0, 13.0, 12.0, 11.0, 10.0, 9.0, 8.0, 7.0, 6.0, 5.0, 4.0, 3.0, 2.0, 1.0, 1.2045, 1.2043, 1.2043, 1.2043, 1.2042, 1.2042, 1.204, 1.2036, 1.2036, 1.2036, 1.2036, 1.2036, 1.2036, 1.2035, 1.2035, 1.2034, 1.2033, 1.2033, 1.2033, 1.2033, 1.2032, 1.203, 1.203, 1.203, 1.2028, 1.2026, 1.2026, 1.2024, 1.2023, 1.2023, 1.2004, 1.1989, 1.1281, 1.1736, 1.1121, 1.034, 0.9855, 1.0351, 1.0493, 1.1002, 0.7094, 0.8236, 0.9266, 1.0886, 1.1166, 0.7537, 0.4663, 0.5443, 0.8726, 0.5636, 0.9515, 1.029, 0.6299, 0.6616, 0.2732, 0.7625, 0.2913, 0.7824, 0.1975, 0.1249, 1.2516, 1.251, 1.251, 1.251, 1.2504, 1.2502, 1.2501, 1.2501, 1.2501, 1.25, 1.25, 1.2498, 1.2498, 1.2498, 1.2498, 1.2497, 1.2497, 1.2496, 1.2495, 1.2495, 1.2495, 1.2495, 1.2494, 1.2494, 1.2494, 1.2493, 1.2492, 1.2492, 1.2492, 1.249, 1.2438, 1.2484, 1.1964, 1.145, 1.1304, 0.9387, 1.1232, 1.0741, 0.9821, 1.0907, 0.9683, 0.6977, 0.8603, 0.7377, 0.865, 0.8997, 0.4517, 0.7301, 0.5179, 0.446, 0.5808, 0.5677, -0.3662, 0.744, 0.1832, 0.4022, 0.2337, -0.0884, 0.2968, -0.2195, 1.8603, 1.86, 1.8597, 1.8596, 1.8596, 1.8593, 1.8591, 1.8591, 1.859, 1.8589, 1.8588, 1.8585, 1.8585, 1.8583, 1.8582, 1.858, 1.8579, 1.8578, 1.8577, 1.8577, 1.8576, 1.8575, 1.8575, 1.8574, 1.8574, 1.8574, 1.8574, 1.8572, 1.8571, 1.857, 1.7294, 1.4399, 1.6014, 1.5363, 1.3007, 1.5297, 1.3748, 1.5019, 1.4263, 1.4988, 1.7198, 0.9623, 1.7066, 1.3584, 0.838, 0.6957, 0.7329, 0.4179, 1.4313, -0.8323, -0.5432, 0.6641, 0.8348, -0.3184, 0.7266, 1.8721, 1.8716, 1.8714, 1.8712, 1.871, 1.8708, 1.8708, 1.8707, 1.8707, 1.8707, 1.8705, 1.8705, 1.8702, 1.8701, 1.87, 1.87, 1.8697, 1.8697, 1.8697, 1.8696, 1.8696, 1.8695, 1.8695, 1.8694, 1.8694, 1.8693, 1.8692, 1.8692, 1.8691, 1.869, 1.8681, 1.8589, 1.6934, 1.4488, 1.453, 1.6043, 1.5207, 0.7169, 0.8583, 0.9688, 0.2465, 0.1478, 0.6605, 0.8488, -0.4876, -0.0088, 0.4327, 0.4196, 0.3902, 0.6972, 0.8512, -0.7502, 2.254, 2.2535, 2.2531, 2.253, 2.2527, 2.2526, 2.2524, 2.2524, 2.2522, 2.2521, 2.252, 2.2515, 2.2514, 2.2512, 2.2512, 2.2511, 2.2507, 2.2507, 2.2507, 2.2505, 2.2504, 2.2504, 2.2504, 2.2503, 2.2502, 2.2501, 2.2501, 2.2501, 2.25, 2.2499, 1.9604, 1.9535, 1.4925, 1.8696, 1.0132, 1.2976, 0.5964, 1.188, 0.2928, 1.7996, -1.245, 0.8315, 0.0714, 0.0568, 1.1038, 0.3137, 0.4574, 0.0645, -0.6873]}, \"token.table\": {\"Topic\": [1, 4, 2, 2, 2, 4, 5, 4, 1, 2, 3, 4, 5, 4, 1, 1, 4, 1, 1, 2, 4, 5, 1, 2, 3, 4, 5, 1, 2, 2, 3, 1, 4, 1, 4, 4, 2, 2, 3, 5, 1, 2, 3, 4, 5, 5, 4, 2, 5, 1, 2, 3, 4, 5, 5, 2, 5, 4, 2, 3, 4, 2, 3, 4, 5, 2, 3, 5, 1, 1, 2, 3, 1, 2, 3, 1, 2, 4, 5, 3, 2, 3, 5, 1, 5, 2, 1, 5, 1, 2, 3, 4, 1, 2, 3, 4, 5, 1, 4, 3, 2, 4, 3, 2, 5, 1, 2, 4, 5, 2, 3, 4, 2, 5, 5, 4, 4, 2, 3, 5, 1, 1, 2, 4, 2, 5, 5, 1, 2, 4, 5, 2, 3, 4, 5, 2, 3, 2, 5, 3, 1, 2, 3, 4, 5, 3, 1, 2, 3, 4, 5, 4, 1, 1, 4, 2, 2, 2, 1, 2, 4, 5, 5, 5, 1, 2, 5, 1, 2, 3, 4, 5, 5, 1, 2, 4, 5, 2, 3, 1, 4, 5, 1, 2, 3, 4, 5, 5, 1, 2, 3, 2, 3, 3, 2, 3, 2, 4, 2, 3, 4, 2, 2, 2, 2, 3, 2, 3, 2, 4, 3, 4, 1, 2, 4, 5, 1, 1, 2, 5, 3, 1, 1, 3, 4, 1, 2, 4, 1, 4, 4, 1, 5, 3, 2, 2, 3, 5, 4, 5, 5, 1, 2, 3, 1, 2, 3, 4, 5, 1, 4, 4, 5, 3, 1, 2, 3, 3, 4, 5, 1, 4, 4, 4, 3, 2, 1, 2, 4, 5, 1, 3, 1, 4, 1, 1, 4, 3, 1, 2, 1, 1, 2, 3, 4, 5, 1, 2, 2, 5, 3, 2, 1, 2, 5, 4, 3, 1, 4, 1, 2, 4, 5, 1, 2, 2, 1, 4, 1, 2, 3, 3, 3, 1, 3, 4, 2, 2, 5, 1, 2, 3, 4, 2, 3, 2, 3, 5, 2, 4, 5, 3, 3, 4, 1, 1, 2, 3, 5, 4, 3, 2, 3, 1, 4, 5, 3, 4, 5, 1, 1, 4, 1, 2, 3, 4, 3, 3, 1, 5, 5, 1, 2, 3, 4, 5, 5, 1, 2, 3, 5, 1, 1, 1, 2, 4, 5, 1, 2, 4, 5, 4, 1, 2, 3, 4, 5, 3, 1, 5, 2, 5, 2, 4, 1, 5, 1, 2, 3, 4, 5, 2, 3, 4, 1, 3, 4, 4, 1, 2, 3, 4, 5, 1, 1, 4, 1, 2, 3, 5, 1, 2, 4, 2, 3, 5, 1, 2, 3, 4, 5, 5], \"Freq\": [0.012385546413062467, 0.9873049854984082, 0.9967311666761011, 0.9977536610044455, 0.9991739816784804, 0.9976313688423243, 0.9964183333474791, 0.9956884524747948, 0.3666555637164528, 0.23217859798212506, 0.15423684641365754, 0.08123506501502248, 0.16576344347659994, 0.9981225318107491, 0.9994699812390864, 0.9996068722294221, 0.9984326493173452, 0.9994091385695971, 0.3535184882857927, 0.3074689858036754, 0.22705946993105522, 0.11193571372576201, 0.22547236606419024, 0.33930841429659847, 0.028596495208141202, 0.30851218868783103, 0.09788800282786796, 0.9983319959741324, 0.9978442737849558, 0.9997218760489968, 0.9968512109880643, 0.7764489873947718, 0.2230761687603144, 0.9989144804226064, 0.9961896137104195, 0.9962828329542301, 0.998266126208762, 0.8986163320878546, 0.001128914990060119, 0.09990897662032051, 0.3407258450087602, 0.5112861753028325, 0.039481557938442664, 0.1081794687513329, 0.00039481557938442663, 0.9992625924092058, 0.9983738829769498, 0.9976092272996152, 0.9956122604650234, 0.5809468378965723, 0.22468675612027708, 0.0514148072563517, 0.14209919170849958, 0.0008096820040370345, 0.9954469081854772, 0.9977288852496399, 0.9977461643188326, 0.9988685728574613, 0.9992866323632037, 0.998275818232142, 0.9967724288481234, 0.5055407862893231, 0.35815502835300983, 0.08094761834844146, 0.054983287934790424, 0.2994435210044193, 0.6966133794077705, 0.003758705284574301, 0.9992016355641505, 0.9986024045334689, 0.763710680909058, 0.23611803944285545, 0.9988578484624528, 0.39479826152117103, 0.604425657019138, 0.683213816895787, 0.19745851919953444, 0.0666147234846013, 0.05285135086381591, 0.9983959537381579, 0.6617933515679277, 0.021420909164890336, 0.3168039723860097, 0.0015358239367855163, 0.9982855589105856, 0.9987764739346087, 0.6153085114830256, 0.383936345424548, 0.6426926702627895, 0.12020285844200669, 0.07550430806658712, 0.16127720203023008, 0.6094341402688604, 0.19831891761063528, 0.06764985085429884, 0.09442237247484353, 0.030232191412463996, 0.34162943360526893, 0.6578619548801702, 0.9963331493348297, 0.3450581165271855, 0.6545245741818116, 0.9977178256742423, 0.2545917037911592, 0.745244702553235, 0.9262662067854824, 0.07362465140082171, 0.9984931034714878, 0.9984549312768877, 0.3007555112083002, 0.6989217143059284, 0.0012176336486166, 0.9969784444176804, 0.994466295733204, 0.9976605900002592, 0.9974804934757839, 0.9985605350280016, 0.4801575204727422, 0.40708325380380106, 0.11259082289334713, 0.999772961566917, 0.11301398817941437, 0.8855573700625752, 0.0005622586476587779, 0.9989379769143722, 0.9973680844530202, 0.9986781759207064, 0.11018875110488813, 0.5745789166342169, 0.31491814664888146, 0.0001630011111019055, 0.4480472098817101, 0.0032602187829230463, 0.4051986201632929, 0.14344962644861403, 0.2279378286394959, 0.7717110799690122, 0.9988422994272397, 0.9976239403883226, 0.9964167518833585, 0.25535092006865134, 0.34439939334894315, 0.07135672362195569, 0.039511574236950675, 0.28896524441949, 0.9991873090650212, 0.9941740231204914, 0.0055231890173360635, 0.9985516009207602, 0.9954907047599255, 0.9987665008756041, 0.9961277345762765, 0.9992226585178731, 0.9956336941675498, 0.002808557670430324, 0.9980276627777251, 0.9975549019899356, 0.9982274073391258, 0.15967613045247953, 0.5044226675257848, 0.2978056023378775, 0.03809141425251921, 0.9994238903726643, 0.9970373023856465, 0.8441242518385709, 0.1554680422728629, 0.00021683130024109193, 0.5629191549957444, 0.38003614733535246, 0.031544502347993685, 0.001126589369571203, 0.02403390655085233, 0.995142387293451, 0.47796437281016513, 0.449250618248353, 0.07268169123458706, 0.0001495508050094384, 0.35211046757651, 0.6479608604438255, 0.7571841763345744, 0.16665704498773337, 0.07610104860409253, 0.3651807956290463, 0.15783237777187595, 0.12905117947229858, 0.237058041908347, 0.11110161494137934, 0.9976962298135237, 0.24609347968286366, 0.752972587089359, 0.0006121728350319992, 0.12173861276241499, 0.8768262109090396, 0.9972293815421068, 0.6759119813119805, 0.3235794501011005, 0.8791916774198367, 0.12009973877188664, 0.2768072475810882, 0.7225378924039687, 0.9983081629076441, 0.9993211874648111, 0.9989839006764845, 0.9976196741631699, 0.9984706410709383, 0.0016923231204592174, 0.13122696416511917, 0.868722502773089, 0.837262899779362, 0.16225148699302963, 0.0033051237130491164, 0.9948422376277841, 0.2597264332276411, 0.4276441798084551, 0.12218405137384432, 0.19044329795141096, 0.99932121348408, 0.3866955508957865, 0.371792476926172, 0.24080230045640255, 0.9985116944857674, 0.999611461647289, 0.9984899381875787, 0.8574110589521967, 0.14068974032342546, 0.8907783143992071, 0.10747632014223563, 0.0018216325447836547, 0.6369179025650201, 0.36277203484622383, 0.9989282430926394, 0.9971506562318261, 0.995927100469694, 0.9976797779127649, 0.9968701304761272, 0.3849669874942514, 0.6149160184171569, 0.9974381337673653, 0.8365125209326569, 0.16258237083957594, 0.9975016494004021, 0.24932013705678044, 0.032215523327561515, 0.7178459002337076, 0.4074022345914625, 0.20516659295972933, 0.30188798678360174, 0.08089425665269327, 0.004103331859194586, 0.9007720295335269, 0.0984492665669173, 0.31766833419296336, 0.6793215146587985, 0.9946590829675569, 0.27549751732406724, 0.6791445766786675, 0.045116318168052824, 0.9984956735744567, 0.3650506230345781, 0.6354584919490803, 0.9979003194363202, 0.9959264944245434, 0.9987641017127717, 0.9990821040803478, 0.9991036645732022, 0.9979911605279149, 0.12120643331378689, 0.7033309089079836, 0.08284292919153324, 0.09229480701875516, 0.9971449561640134, 0.9960818458829931, 0.9115861694292526, 0.08807595839896161, 0.9999091689476884, 0.8032372068944932, 0.19675750113621696, 0.9987600588917359, 0.4060111967032555, 0.5934009797970656, 0.9988757843721927, 0.2891931674772259, 0.21860810527306887, 0.12472311962287942, 0.3604635215474427, 0.0068529186605977704, 0.6558651653663902, 0.3440915795110627, 0.9921488276750426, 0.007644697834682071, 0.9989743831168523, 0.9982460451982295, 0.1482295217019295, 0.8515736280325614, 0.9975835721250438, 0.9987085606484137, 0.9993186629445658, 0.9996289532793509, 0.9972592388241812, 0.39373184443293957, 0.24822224975120102, 0.012839081883682811, 0.3445153638788221, 0.397957082661469, 0.6020051409687828, 0.9983573531490304, 0.9991409430066419, 0.9961886057023884, 0.0027939973291361726, 0.9960600478370455, 0.9986698001725496, 0.9967116984961465, 0.9973338723039935, 0.5480903028870259, 0.09260464842491989, 0.3591122122059393, 0.997726056964652, 0.9965780198265526, 0.002280498901204926, 0.33972391934325036, 0.11444020382111417, 0.31193129841526546, 0.23378498780599036, 0.9987152117086978, 0.9990534618520608, 0.17353502867912526, 0.35938296404945236, 0.466736119263368, 0.29269267743429966, 0.7038562004967682, 0.0027875493088980923, 0.9974125030858825, 0.9981769486948084, 0.9994988684562147, 0.9971005673430119, 0.9982307905569558, 0.9463496581888068, 0.05269446960369492, 0.9968196222337635, 0.996381286642721, 0.9978541948397495, 0.9975298692651704, 0.9948305851218118, 0.001638120268994874, 0.7650021656206061, 0.2326130781972721, 0.9947074337517054, 0.9986357904843773, 0.9957576797176919, 0.9990851501024212, 0.8393275684755306, 0.16077747449685756, 0.3467960443766453, 0.29397740835936065, 0.321776690473721, 0.03752903085438647, 0.9978173896308155, 0.9978422705834453, 0.9979174405832004, 0.9961779744844097, 0.9979173562843201, 0.5267064974464122, 0.44675746202429506, 0.0005630213762120921, 0.025898983305756237, 0.9977975227587048, 0.9972340253887156, 0.7175800242540733, 0.11353416666385492, 0.05786935679468333, 0.11077848300696523, 0.9985406238721196, 0.998889785321053, 0.8562146230168078, 0.001652286034382107, 0.001652286034382107, 0.14077477012935552, 0.9162080451237485, 0.002106225391089077, 0.08108967755692947, 0.9991712989054377, 0.9984352321820459, 0.5167082388374855, 0.26184816876649025, 0.11304277301536078, 0.08447378128966052, 0.02404728080508584, 0.994374398924867, 0.9997051839905359, 0.9949671465145199, 0.9994679305829456, 0.00039056972668344883, 0.9987687510271759, 0.9966116804476401, 0.2586767382597828, 0.739908688265595, 0.9976317920110374, 0.7311584709401271, 0.0903195758220157, 0.17820818997594404, 0.00018699705139133688, 0.34346539322374203, 0.6563854451528824, 0.9983091432684122, 0.8431268768829636, 0.004387253415062866, 0.15239253774086012, 0.999427001034129, 0.4012647096127155, 0.3613499080536511, 0.12186109869926476, 0.055034044573861504, 0.06077935691948441, 0.9985304565295856, 0.9991049217922824, 0.9990286624606798, 0.9696608300295553, 0.023872072017140283, 0.004547061336598149, 0.0022735306682990747, 0.393897349579518, 0.5981120919828797, 0.007903441965673176, 0.15955308650768016, 0.6507263135999505, 0.18927375948460098, 0.15358342974517794, 0.2296938493020405, 0.5711201303832092, 0.02004954786280523, 0.025694566193109617, 0.9953322403480102], \"Term\": [\"accept\", \"accept\", \"action\", \"activity\", \"address\", \"alternative\", \"altogether\", \"backstop\", \"big\", \"big\", \"big\", \"big\", \"big\", \"block\", \"boris\", \"boris_johnson\", \"brexiteer\", \"brexiteers\", \"britain\", \"britain\", \"britain\", \"britain\", \"british\", \"british\", \"british\", \"british\", \"british\", \"british_people\", \"budget\", \"business\", \"buy\", \"campaign\", \"campaign\", \"candidate\", \"care\", \"catastrophic\", \"certainty\", \"challenge\", \"challenge\", \"challenge\", \"change\", \"change\", \"change\", \"change\", \"change\", \"chaos\", \"claim\", \"clarity\", \"clean_break\", \"clear\", \"clear\", \"clear\", \"clear\", \"clear\", \"cliff_edge\", \"climate_change\", \"commission\", \"common\", \"company\", \"compare\", \"compromise\", \"concern\", \"concern\", \"concern\", \"concern\", \"confidence\", \"confidence\", \"confidence\", \"conservative\", \"conservative_party\", \"continue\", \"continue\", \"corbyn\", \"cost\", \"cost\", \"country\", \"country\", \"country\", \"country\", \"crash\", \"create\", \"create\", \"create\", \"crisis\", \"crisis\", \"customer\", \"damage\", \"damage\", \"day\", \"day\", \"day\", \"day\", \"deal\", \"deal\", \"deal\", \"deal\", \"deal\", \"debate\", \"debate\", \"december\", \"decision\", \"decision\", \"decline\", \"delay\", \"delay\", \"deliver\", \"deliver\", \"democracy\", \"desire\", \"despite\", \"despite\", \"despite\", \"develop\", \"die\", \"disaster\", \"disastrous\", \"disorderly\", \"economy\", \"economy\", \"economy\", \"election\", \"ensure\", \"ensure\", \"ensure\", \"environment\", \"era\", \"essential\", \"eu\", \"eu\", \"eu\", \"eu\", \"europe\", \"europe\", \"europe\", \"europe\", \"expect\", \"expect\", \"export\", \"extension\", \"extreme\", \"face\", \"face\", \"face\", \"face\", \"face\", \"factor\", \"fail\", \"fail\", \"fall\", \"family\", \"farmer\", \"favour\", \"fight\", \"final\", \"final\", \"firm\", \"fund\", \"funding\", \"future\", \"future\", \"future\", \"future\", \"general_election\", \"generation\", \"go\", \"go\", \"go\", \"good\", \"good\", \"good\", \"good\", \"good\", \"good_friday_agreement\", \"government\", \"government\", \"government\", \"government\", \"growth\", \"growth\", \"happen\", \"happen\", \"happen\", \"hard\", \"hard\", \"hard\", \"hard\", \"hard\", \"health\", \"help\", \"help\", \"help\", \"high\", \"high\", \"hour\", \"impact\", \"impact\", \"include\", \"include\", \"increase\", \"increase\", \"independence\", \"industry\", \"international\", \"invest\", \"investment\", \"investment\", \"investor\", \"investor\", \"ireland\", \"ireland\", \"irish\", \"irish\", \"issue\", \"issue\", \"issue\", \"issue\", \"jeremy_corbyn\", \"job\", \"job\", \"job\", \"johnson\", \"labour\", \"labour_party\", \"late\", \"late\", \"leader\", \"leader\", \"leader\", \"leave\", \"leave\", \"legislation\", \"liberal_democrat\", \"love\", \"low\", \"maintain\", \"market\", \"market\", \"massive\", \"matter\", \"matter\", \"mess\", \"month\", \"month\", \"month\", \"move\", \"move\", \"move\", \"move\", \"move\", \"mp\", \"mp\", \"need\", \"need\", \"negative\", \"negotiation\", \"negotiation\", \"negotiation\", \"news\", \"nhs\", \"nhs\", \"nigel_farage\", \"night\", \"north\", \"northern_ireland\", \"october\", \"operation\", \"opportunity\", \"opportunity\", \"opportunity\", \"opportunity\", \"oppose\", \"outlook\", \"parliament\", \"parliament\", \"party\", \"people\", \"people\", \"performance\", \"plan\", \"plan\", \"pm\", \"political\", \"political\", \"political\", \"political\", \"political\", \"position\", \"position\", \"post\", \"post\", \"pound\", \"preparation\", \"prepare\", \"prepare\", \"president\", \"prevent\", \"price\", \"prime_minister\", \"pro\", \"problem\", \"problem\", \"problem\", \"problem\", \"process\", \"process\", \"progress\", \"promise\", \"promote\", \"provide\", \"provide\", \"rate\", \"recession\", \"record\", \"referendum\", \"referendum\", \"referendum\", \"region\", \"relationship\", \"relationship\", \"remain\", \"remain\", \"remain\", \"remain\", \"require\", \"rise\", \"risk\", \"risk\", \"risk\", \"rule\", \"rule\", \"rule\", \"sale\", \"save\", \"scotland\", \"seat\", \"second_referendum\", \"sector\", \"sector\", \"security\", \"sensible\", \"sentiment\", \"service\", \"shock\", \"simply\", \"simply\", \"simply\", \"slow\", \"snp\", \"solve\", \"sort\", \"stand\", \"stand\", \"start\", \"start\", \"start\", \"start\", \"sterling\", \"stock\", \"stop\", \"story\", \"supply\", \"support\", \"support\", \"support\", \"support\", \"table\", \"tackle\", \"talk\", \"talk\", \"talk\", \"talk\", \"tell\", \"theresa\", \"thing\", \"thing\", \"thing\", \"thing\", \"think\", \"think\", \"think\", \"threat\", \"threaten\", \"time\", \"time\", \"time\", \"time\", \"time\", \"tonight\", \"tory\", \"tough\", \"trade\", \"trade\", \"transition_period\", \"true\", \"trump\", \"trump\", \"trust\", \"uk\", \"uk\", \"uk\", \"uk\", \"uncertainty\", \"uncertainty\", \"united_kingdom\", \"vote\", \"vote\", \"vote\", \"voter\", \"well\", \"well\", \"well\", \"well\", \"well\", \"westminster\", \"win\", \"withdrawal_agreement\", \"wo\", \"wo\", \"wo\", \"wo\", \"work\", \"work\", \"work\", \"worry\", \"worry\", \"worry\", \"year\", \"year\", \"year\", \"year\", \"year\", \"year_ahead\"]}, \"R\": 30, \"lambda.step\": 0.01, \"plot.opts\": {\"xlab\": \"PC1\", \"ylab\": \"PC2\"}, \"topic.order\": [1, 2, 4, 5, 3]};\n",
       "\n",
       "function LDAvis_load_lib(url, callback){\n",
       "  var s = document.createElement('script');\n",
       "  s.src = url;\n",
       "  s.async = true;\n",
       "  s.onreadystatechange = s.onload = callback;\n",
       "  s.onerror = function(){console.warn(\"failed to load library \" + url);};\n",
       "  document.getElementsByTagName(\"head\")[0].appendChild(s);\n",
       "}\n",
       "\n",
       "if(typeof(LDAvis) !== \"undefined\"){\n",
       "   // already loaded: just create the visualization\n",
       "   !function(LDAvis){\n",
       "       new LDAvis(\"#\" + \"ldavis_el27681851483452688487784223\", ldavis_el27681851483452688487784223_data);\n",
       "   }(LDAvis);\n",
       "}else if(typeof define === \"function\" && define.amd){\n",
       "   // require.js is available: use it to load d3/LDAvis\n",
       "   require.config({paths: {d3: \"https://d3js.org/d3.v5\"}});\n",
       "   require([\"d3\"], function(d3){\n",
       "      window.d3 = d3;\n",
       "      LDAvis_load_lib(\"https://cdn.jsdelivr.net/gh/bmabey/pyLDAvis@3.3.1/pyLDAvis/js/ldavis.v3.0.0.js\", function(){\n",
       "        new LDAvis(\"#\" + \"ldavis_el27681851483452688487784223\", ldavis_el27681851483452688487784223_data);\n",
       "      });\n",
       "    });\n",
       "}else{\n",
       "    // require.js not available: dynamically load d3 & LDAvis\n",
       "    LDAvis_load_lib(\"https://d3js.org/d3.v5.js\", function(){\n",
       "         LDAvis_load_lib(\"https://cdn.jsdelivr.net/gh/bmabey/pyLDAvis@3.3.1/pyLDAvis/js/ldavis.v3.0.0.js\", function(){\n",
       "                 new LDAvis(\"#\" + \"ldavis_el27681851483452688487784223\", ldavis_el27681851483452688487784223_data);\n",
       "            })\n",
       "         });\n",
       "}\n",
       "</script>"
      ],
      "text/plain": [
       "<IPython.core.display.HTML object>"
      ]
     },
     "execution_count": 28,
     "metadata": {},
     "output_type": "execute_result"
    }
   ],
   "source": [
    "vis = pyLDAvis.gensim_models.prepare(topic_model=best_model, corpus=corpus, dictionary=dict_LDA)\n",
    "pyLDAvis.enable_notebook()\n",
    "pyLDAvis.display(vis)"
   ]
  },
  {
   "cell_type": "markdown",
   "id": "2a715d05-fcb7-4967-9d6d-8b5ace90ec61",
   "metadata": {
    "tags": []
   },
   "source": [
    "#### Sentiment Analysis\n"
   ]
  },
  {
   "cell_type": "markdown",
   "id": "9f4b1ae0-8f37-433c-839a-03038a5d456d",
   "metadata": {},
   "source": [
    "Transformers provides thousands of pretrained models to perform tasks on different modalities such as text, vision, and audio.  Transformers provides APIs to quickly download and use those pretrained models on a given text, fine-tune them on your own datasets. To immediately use a model on a given input (text, image, audio, ...), Transformers provides the pipeline API. Pipelines group together a pretrained model with the preprocessing that was used during that model's training. The default model (distilbert-base-uncased-finetuned-sst-2-english) can only handle the sentence length less than 512. So we filter out the quotation length larger than 512.\n",
    "\n",
    "Since sentiment analysis takes a lot of time, we save the output to csv.bz."
   ]
  },
  {
   "cell_type": "code",
   "execution_count": null,
   "id": "1b807bee-36b7-4cb9-b93e-0daeaa726574",
   "metadata": {},
   "outputs": [],
   "source": [
    "# from transformers import pipeline\n",
    "# classifier = pipeline('sentiment-analysis')\n",
    "\n",
    "# uk_sentiment = df[df.nationality == \"['United Kingdom']\"]\n",
    "# uk_sentiment[\"quotation_length\"] = uk_sentiment[\"quotation\"].apply(lambda x: len(x))\n",
    "# uk_sentiment = uk_sentiment[uk_sentiment[\"quotation_length\"]< 512]\n",
    "\n",
    "# uk_sentiment['sentiment_score'] = uk_sentiment[\"quotation\"].apply(lambda x: classifier(x)[0][\"score\"] )\n",
    "# uk_sentiment['sentiment_label'] = uk_sentiment[\"quotation\"].apply(lambda x: classifier(x)[0][\"label\"] )\n",
    "# uk_sentiment.to_csv(\"uk_people_sentiment_len_lt_512.csv.bz2\", compression = \"bz2\")"
   ]
  },
  {
   "cell_type": "code",
   "execution_count": 30,
   "id": "3d640e0a-feda-4576-bdfd-0701fe198e0b",
   "metadata": {},
   "outputs": [
    {
     "data": {
      "text/html": [
       "<div>\n",
       "<style scoped>\n",
       "    .dataframe tbody tr th:only-of-type {\n",
       "        vertical-align: middle;\n",
       "    }\n",
       "\n",
       "    .dataframe tbody tr th {\n",
       "        vertical-align: top;\n",
       "    }\n",
       "\n",
       "    .dataframe thead th {\n",
       "        text-align: right;\n",
       "    }\n",
       "</style>\n",
       "<table border=\"1\" class=\"dataframe\">\n",
       "  <thead>\n",
       "    <tr style=\"text-align: right;\">\n",
       "      <th></th>\n",
       "      <th>date</th>\n",
       "      <th>quotation</th>\n",
       "      <th>speaker</th>\n",
       "      <th>qids</th>\n",
       "      <th>probas</th>\n",
       "      <th>speaker_qid</th>\n",
       "      <th>date_of_birth</th>\n",
       "      <th>nationality</th>\n",
       "      <th>gender</th>\n",
       "      <th>occupation</th>\n",
       "      <th>label</th>\n",
       "      <th>age</th>\n",
       "      <th>sentiment_label</th>\n",
       "      <th>sentiment_score</th>\n",
       "    </tr>\n",
       "  </thead>\n",
       "  <tbody>\n",
       "    <tr>\n",
       "      <th>0</th>\n",
       "      <td>2016-09-07</td>\n",
       "      <td>Corbyn shows his true colours. Rather than att...</td>\n",
       "      <td>Tim Farron</td>\n",
       "      <td>['Q304251']</td>\n",
       "      <td>[['Tim Farron', '0.8865'], ['None', '0.0683'],...</td>\n",
       "      <td>Q304251</td>\n",
       "      <td>+1970-05-27T00:00:00Z</td>\n",
       "      <td>['United Kingdom']</td>\n",
       "      <td>['male']</td>\n",
       "      <td>['politician']</td>\n",
       "      <td>Tim Farron</td>\n",
       "      <td>51.0</td>\n",
       "      <td>NEGATIVE</td>\n",
       "      <td>0.936524</td>\n",
       "    </tr>\n",
       "    <tr>\n",
       "      <th>5</th>\n",
       "      <td>2016-04-29</td>\n",
       "      <td>The unknowns of Brexit are unwelcome at a time...</td>\n",
       "      <td>Andrew Mackenzie</td>\n",
       "      <td>['Q15042554', 'Q21456523', 'Q4275769', 'Q43914...</td>\n",
       "      <td>[['Andrew Mackenzie', '0.7529'], ['None', '0.1...</td>\n",
       "      <td>Q15042554</td>\n",
       "      <td>+1956-12-20T00:00:00Z</td>\n",
       "      <td>['United Kingdom']</td>\n",
       "      <td>['male']</td>\n",
       "      <td>['entrepreneur', 'chief executive officer', 'g...</td>\n",
       "      <td>Andrew Mackenzie</td>\n",
       "      <td>65.0</td>\n",
       "      <td>NEGATIVE</td>\n",
       "      <td>0.971674</td>\n",
       "    </tr>\n",
       "    <tr>\n",
       "      <th>11</th>\n",
       "      <td>2016-09-11</td>\n",
       "      <td>In terms of support for independence, most pol...</td>\n",
       "      <td>Ruth Davidson</td>\n",
       "      <td>['Q2177593']</td>\n",
       "      <td>[['Ruth Davidson', '0.549'], ['None', '0.451']]</td>\n",
       "      <td>Q2177593</td>\n",
       "      <td>+1978-11-10T00:00:00Z</td>\n",
       "      <td>['United Kingdom']</td>\n",
       "      <td>['female']</td>\n",
       "      <td>['politician', 'journalist']</td>\n",
       "      <td>Ruth Davidson</td>\n",
       "      <td>43.0</td>\n",
       "      <td>POSITIVE</td>\n",
       "      <td>0.998161</td>\n",
       "    </tr>\n",
       "    <tr>\n",
       "      <th>15</th>\n",
       "      <td>2016-09-18</td>\n",
       "      <td>It'll take a period of time before people know...</td>\n",
       "      <td>Patricia Scotland</td>\n",
       "      <td>['Q194713']</td>\n",
       "      <td>[['Patricia Scotland', '0.805'], ['None', '0.1...</td>\n",
       "      <td>Q194713</td>\n",
       "      <td>+1955-08-19T00:00:00Z,+1956-00-00T00:00:00Z</td>\n",
       "      <td>['United Kingdom']</td>\n",
       "      <td>['female']</td>\n",
       "      <td>['politician', 'lawyer', 'diplomat', 'barrister']</td>\n",
       "      <td>Patricia Scotland, Baroness Scotland of Asthal</td>\n",
       "      <td>66.0</td>\n",
       "      <td>NEGATIVE</td>\n",
       "      <td>0.999014</td>\n",
       "    </tr>\n",
       "    <tr>\n",
       "      <th>18</th>\n",
       "      <td>2016-07-01</td>\n",
       "      <td>Those in the political center were demonized a...</td>\n",
       "      <td>Tony Blair</td>\n",
       "      <td>['Q9545']</td>\n",
       "      <td>[['Tony Blair', '0.9641'], ['None', '0.0359']]</td>\n",
       "      <td>Q9545</td>\n",
       "      <td>+1953-05-06T00:00:00Z</td>\n",
       "      <td>['United Kingdom']</td>\n",
       "      <td>['male']</td>\n",
       "      <td>['politician', 'diplomat', 'autobiographer', '...</td>\n",
       "      <td>Tony Blair</td>\n",
       "      <td>68.0</td>\n",
       "      <td>NEGATIVE</td>\n",
       "      <td>0.998110</td>\n",
       "    </tr>\n",
       "  </tbody>\n",
       "</table>\n",
       "</div>"
      ],
      "text/plain": [
       "          date                                          quotation  \\\n",
       "0   2016-09-07  Corbyn shows his true colours. Rather than att...   \n",
       "5   2016-04-29  The unknowns of Brexit are unwelcome at a time...   \n",
       "11  2016-09-11  In terms of support for independence, most pol...   \n",
       "15  2016-09-18  It'll take a period of time before people know...   \n",
       "18  2016-07-01  Those in the political center were demonized a...   \n",
       "\n",
       "              speaker                                               qids  \\\n",
       "0          Tim Farron                                        ['Q304251']   \n",
       "5    Andrew Mackenzie  ['Q15042554', 'Q21456523', 'Q4275769', 'Q43914...   \n",
       "11      Ruth Davidson                                       ['Q2177593']   \n",
       "15  Patricia Scotland                                        ['Q194713']   \n",
       "18         Tony Blair                                          ['Q9545']   \n",
       "\n",
       "                                               probas speaker_qid  \\\n",
       "0   [['Tim Farron', '0.8865'], ['None', '0.0683'],...     Q304251   \n",
       "5   [['Andrew Mackenzie', '0.7529'], ['None', '0.1...   Q15042554   \n",
       "11    [['Ruth Davidson', '0.549'], ['None', '0.451']]    Q2177593   \n",
       "15  [['Patricia Scotland', '0.805'], ['None', '0.1...     Q194713   \n",
       "18     [['Tony Blair', '0.9641'], ['None', '0.0359']]       Q9545   \n",
       "\n",
       "                                  date_of_birth         nationality  \\\n",
       "0                         +1970-05-27T00:00:00Z  ['United Kingdom']   \n",
       "5                         +1956-12-20T00:00:00Z  ['United Kingdom']   \n",
       "11                        +1978-11-10T00:00:00Z  ['United Kingdom']   \n",
       "15  +1955-08-19T00:00:00Z,+1956-00-00T00:00:00Z  ['United Kingdom']   \n",
       "18                        +1953-05-06T00:00:00Z  ['United Kingdom']   \n",
       "\n",
       "        gender                                         occupation  \\\n",
       "0     ['male']                                     ['politician']   \n",
       "5     ['male']  ['entrepreneur', 'chief executive officer', 'g...   \n",
       "11  ['female']                       ['politician', 'journalist']   \n",
       "15  ['female']  ['politician', 'lawyer', 'diplomat', 'barrister']   \n",
       "18    ['male']  ['politician', 'diplomat', 'autobiographer', '...   \n",
       "\n",
       "                                             label   age sentiment_label  \\\n",
       "0                                       Tim Farron  51.0        NEGATIVE   \n",
       "5                                 Andrew Mackenzie  65.0        NEGATIVE   \n",
       "11                                   Ruth Davidson  43.0        POSITIVE   \n",
       "15  Patricia Scotland, Baroness Scotland of Asthal  66.0        NEGATIVE   \n",
       "18                                      Tony Blair  68.0        NEGATIVE   \n",
       "\n",
       "    sentiment_score  \n",
       "0          0.936524  \n",
       "5          0.971674  \n",
       "11         0.998161  \n",
       "15         0.999014  \n",
       "18         0.998110  "
      ]
     },
     "execution_count": 30,
     "metadata": {},
     "output_type": "execute_result"
    }
   ],
   "source": [
    "uk_sentiment = pd.read_csv('./uk_people_sentiment_len_lt_512.csv.bz2', compression='bz2', sep=',',index_col=0)\n",
    "uk_sentiment.head()"
   ]
  },
  {
   "cell_type": "code",
   "execution_count": 28,
   "id": "6e788989-fef1-49d2-b6b2-8c8a2e881d2d",
   "metadata": {},
   "outputs": [],
   "source": [
    "uk_sentiment.to_csv(\"uk_people_sentiment_len_lt_512.csv.bz2\", compression = \"bz2\")"
   ]
  },
  {
   "cell_type": "markdown",
   "id": "a7b1824d-afd3-4865-9f16-e6a4566e543a",
   "metadata": {},
   "source": [
    "This is the distribution of all the quotations from UK people. From the graph, we can see the positive quotations are still more than negative ones. That is maybe the reason that why Brexit can happen."
   ]
  },
  {
   "cell_type": "code",
   "execution_count": 10,
   "id": "7e1a1c0a-1966-4aec-b2e1-e19c6c2bc5cc",
   "metadata": {},
   "outputs": [
    {
     "data": {
      "image/png": "[encoded data removed]",
      "text/plain": [
       "<Figure size 432x288 with 1 Axes>"
      ]
     },
     "metadata": {
      "needs_background": "light"
     },
     "output_type": "display_data"
    }
   ],
   "source": [
    "ax = sns.histplot(uk_sentiment['sentiment_label'])\n",
    "ax.set_title('The Sentiment Distribution of Quotation from UK People ')\n",
    "plt.show()"
   ]
  },
  {
   "cell_type": "code",
   "execution_count": 12,
   "id": "7c272a7a-8179-45ab-ac6a-e0ed71c26977",
   "metadata": {},
   "outputs": [
    {
     "data": {
      "text/html": [
       "<div>\n",
       "<style scoped>\n",
       "    .dataframe tbody tr th:only-of-type {\n",
       "        vertical-align: middle;\n",
       "    }\n",
       "\n",
       "    .dataframe tbody tr th {\n",
       "        vertical-align: top;\n",
       "    }\n",
       "\n",
       "    .dataframe thead th {\n",
       "        text-align: right;\n",
       "    }\n",
       "</style>\n",
       "<table border=\"1\" class=\"dataframe\">\n",
       "  <thead>\n",
       "    <tr style=\"text-align: right;\">\n",
       "      <th></th>\n",
       "      <th>year</th>\n",
       "      <th>month</th>\n",
       "      <th>sentiment_label</th>\n",
       "      <th>count</th>\n",
       "      <th>year_month</th>\n",
       "    </tr>\n",
       "  </thead>\n",
       "  <tbody>\n",
       "    <tr>\n",
       "      <th>0</th>\n",
       "      <td>2016</td>\n",
       "      <td>01</td>\n",
       "      <td>NEGATIVE</td>\n",
       "      <td>1</td>\n",
       "      <td>2016-01</td>\n",
       "    </tr>\n",
       "    <tr>\n",
       "      <th>1</th>\n",
       "      <td>2016</td>\n",
       "      <td>02</td>\n",
       "      <td>NEGATIVE</td>\n",
       "      <td>33</td>\n",
       "      <td>2016-02</td>\n",
       "    </tr>\n",
       "    <tr>\n",
       "      <th>2</th>\n",
       "      <td>2016</td>\n",
       "      <td>02</td>\n",
       "      <td>POSITIVE</td>\n",
       "      <td>16</td>\n",
       "      <td>2016-02</td>\n",
       "    </tr>\n",
       "    <tr>\n",
       "      <th>3</th>\n",
       "      <td>2016</td>\n",
       "      <td>04</td>\n",
       "      <td>NEGATIVE</td>\n",
       "      <td>48</td>\n",
       "      <td>2016-04</td>\n",
       "    </tr>\n",
       "    <tr>\n",
       "      <th>4</th>\n",
       "      <td>2016</td>\n",
       "      <td>04</td>\n",
       "      <td>POSITIVE</td>\n",
       "      <td>14</td>\n",
       "      <td>2016-04</td>\n",
       "    </tr>\n",
       "  </tbody>\n",
       "</table>\n",
       "</div>"
      ],
      "text/plain": [
       "   year month sentiment_label  count year_month\n",
       "0  2016    01        NEGATIVE      1    2016-01\n",
       "1  2016    02        NEGATIVE     33    2016-02\n",
       "2  2016    02        POSITIVE     16    2016-02\n",
       "3  2016    04        NEGATIVE     48    2016-04\n",
       "4  2016    04        POSITIVE     14    2016-04"
      ]
     },
     "execution_count": 12,
     "metadata": {},
     "output_type": "execute_result"
    }
   ],
   "source": [
    "uk_sentiment[\"year\"] = uk_sentiment[\"date\"].apply(lambda x :x.split(\"-\")[0])\n",
    "uk_sentiment[\"month\"] = uk_sentiment[\"date\"].apply(lambda x :x.split(\"-\")[1])\n",
    "sentiment_month_change = uk_sentiment.groupby([\"year\",\"month\",\"sentiment_label\"])[\"quotation\"].count().reset_index()\n",
    "sentiment_month_change[\"year_month\"] = sentiment_month_change.year + \"-\" +sentiment_month_change.month\n",
    "sentiment_month_change.rename(columns={\"quotation\": \"count\"},inplace = True)\n",
    "sentiment_month_change.head()"
   ]
  },
  {
   "cell_type": "code",
   "execution_count": 13,
   "id": "f9529425-b6ff-4dbc-8474-4eb36cb75c44",
   "metadata": {},
   "outputs": [
    {
     "data": {
      "text/html": [
       "<div>\n",
       "<style scoped>\n",
       "    .dataframe tbody tr th:only-of-type {\n",
       "        vertical-align: middle;\n",
       "    }\n",
       "\n",
       "    .dataframe tbody tr th {\n",
       "        vertical-align: top;\n",
       "    }\n",
       "\n",
       "    .dataframe thead th {\n",
       "        text-align: right;\n",
       "    }\n",
       "</style>\n",
       "<table border=\"1\" class=\"dataframe\">\n",
       "  <thead>\n",
       "    <tr style=\"text-align: right;\">\n",
       "      <th></th>\n",
       "      <th>year</th>\n",
       "      <th>month</th>\n",
       "      <th>sentiment_label</th>\n",
       "      <th>count</th>\n",
       "      <th>year_month</th>\n",
       "      <th>sum_by_month</th>\n",
       "      <th>percentage</th>\n",
       "    </tr>\n",
       "  </thead>\n",
       "  <tbody>\n",
       "    <tr>\n",
       "      <th>0</th>\n",
       "      <td>2016</td>\n",
       "      <td>01</td>\n",
       "      <td>NEGATIVE</td>\n",
       "      <td>1</td>\n",
       "      <td>2016-01</td>\n",
       "      <td>1</td>\n",
       "      <td>1.000000</td>\n",
       "    </tr>\n",
       "    <tr>\n",
       "      <th>1</th>\n",
       "      <td>2016</td>\n",
       "      <td>02</td>\n",
       "      <td>NEGATIVE</td>\n",
       "      <td>33</td>\n",
       "      <td>2016-02</td>\n",
       "      <td>49</td>\n",
       "      <td>0.673469</td>\n",
       "    </tr>\n",
       "    <tr>\n",
       "      <th>2</th>\n",
       "      <td>2016</td>\n",
       "      <td>02</td>\n",
       "      <td>POSITIVE</td>\n",
       "      <td>16</td>\n",
       "      <td>2016-02</td>\n",
       "      <td>49</td>\n",
       "      <td>0.326531</td>\n",
       "    </tr>\n",
       "    <tr>\n",
       "      <th>3</th>\n",
       "      <td>2016</td>\n",
       "      <td>04</td>\n",
       "      <td>NEGATIVE</td>\n",
       "      <td>48</td>\n",
       "      <td>2016-04</td>\n",
       "      <td>62</td>\n",
       "      <td>0.774194</td>\n",
       "    </tr>\n",
       "    <tr>\n",
       "      <th>4</th>\n",
       "      <td>2016</td>\n",
       "      <td>04</td>\n",
       "      <td>POSITIVE</td>\n",
       "      <td>14</td>\n",
       "      <td>2016-04</td>\n",
       "      <td>62</td>\n",
       "      <td>0.225806</td>\n",
       "    </tr>\n",
       "  </tbody>\n",
       "</table>\n",
       "</div>"
      ],
      "text/plain": [
       "   year month sentiment_label  count year_month  sum_by_month  percentage\n",
       "0  2016    01        NEGATIVE      1    2016-01             1    1.000000\n",
       "1  2016    02        NEGATIVE     33    2016-02            49    0.673469\n",
       "2  2016    02        POSITIVE     16    2016-02            49    0.326531\n",
       "3  2016    04        NEGATIVE     48    2016-04            62    0.774194\n",
       "4  2016    04        POSITIVE     14    2016-04            62    0.225806"
      ]
     },
     "execution_count": 13,
     "metadata": {},
     "output_type": "execute_result"
    }
   ],
   "source": [
    "sum_by_month = sentiment_month_change.groupby([\"year\",\"month\"])[\"count\"].sum().reset_index()\n",
    "sum_by_month.rename(columns={\"count\": \"sum_by_month\"},inplace = True)\n",
    "sentiment_month_change = sentiment_month_change.merge(sum_by_month, on = [\"year\",\"month\"])\n",
    "sentiment_month_change[\"percentage\"] = sentiment_month_change[\"count\"]/sentiment_month_change[\"sum_by_month\"]\n",
    "sentiment_month_change.head()"
   ]
  },
  {
   "cell_type": "code",
   "execution_count": 15,
   "id": "f461eb1b-1a69-486e-9285-884b2ad9bb53",
   "metadata": {},
   "outputs": [
    {
     "data": {
      "image/png": "[encoded data removed]",
      "text/plain": [
       "<Figure size 864x432 with 1 Axes>"
      ]
     },
     "metadata": {
      "needs_background": "light"
     },
     "output_type": "display_data"
    }
   ],
   "source": [
    "plt.figure(figsize=(12,6))\n",
    "ax = sns.lineplot(data = sentiment_month_change, x = 'year_month', y= 'count',hue = 'sentiment_label')\n",
    "ax.set_xticklabels(sentiment_month_change['year_month'].unique(), rotation=90)\n",
    "ax.set_title('The Quotation Number Change from 2016 to 2020')\n",
    "plt.ylabel('Number of quotes')\n",
    "plt.show()"
   ]
  },
  {
   "cell_type": "code",
   "execution_count": 16,
   "id": "49382f1c-8a90-46b6-8733-994cffed1b9f",
   "metadata": {},
   "outputs": [
    {
     "data": {
      "image/png": "[encoded data removed]",
      "text/plain": [
       "<Figure size 864x432 with 1 Axes>"
      ]
     },
     "metadata": {
      "needs_background": "light"
     },
     "output_type": "display_data"
    }
   ],
   "source": [
    "plt.figure(figsize=(12,6))\n",
    "ax = sns.lineplot(data = sentiment_month_change, x = 'year_month', y= 'percentage',hue = 'sentiment_label')\n",
    "ax.set_xticklabels(sentiment_month_change['year_month'].unique(), rotation=90)\n",
    "ax.set_title('The Quotation Number Change from 2016 to 2020')\n",
    "plt.ylabel('Number of quotes')\n",
    "plt.show()"
   ]
  },
  {
   "cell_type": "code",
   "execution_count": 18,
   "id": "50048d79-c3d0-4426-a368-3fae73068e23",
   "metadata": {},
   "outputs": [
    {
     "data": {
      "image/png": "[encoded data removed]",
      "text/plain": [
       "<Figure size 864x432 with 1 Axes>"
      ]
     },
     "metadata": {
      "needs_background": "light"
     },
     "output_type": "display_data"
    }
   ],
   "source": [
    "uk_quotation_month_change = uk_sentiment.groupby([\"year\",\"month\"])[\"quotation\"].count().reset_index()\n",
    "uk_quotation_month_change[\"year_month\"] = uk_quotation_month_change.year + \"-\" +uk_quotation_month_change.month\n",
    "uk_quotation_month_change.rename(columns={\"quotation\": \"count\"},inplace = True)\n",
    "uk_quotation_month_change.head()\n",
    "\n",
    "plt.figure(figsize=(12,6))\n",
    "ax = sns.lineplot(data = uk_quotation_month_change, x = 'year_month', y= 'count')\n",
    "ax.set_xticklabels(uk_quotation_month_change['year_month'], rotation=90)\n",
    "ax.set_title('The Quotation Number Change from 2016 to 2020')\n",
    "plt.ylabel('Number of quotes')\n",
    "plt.show()"
   ]
  },
  {
   "cell_type": "markdown",
   "id": "42d4c72e-9346-4a6c-b66d-e4a6018a6c34",
   "metadata": {},
   "source": [
    "At the start of 2016, the number of overall quotations about brexit is very small. Additionally, the altitude of UK people to Brexit is mainly negative. However, there is steep increase number of quotations about Brexit from May to June. The reason is that the UK holds a referendum on whether to leave the European Union on 23 June. 52% of voters vote to leave. This is the start point of Brexit. At that time, the positive quotations has been dominated, meaning that more people support that UK leaves from EU.\n",
    "\n",
    "After two months, the number of quotation decreases to the level before the Brexit, but it suddenly increase to more than 500 in November. On November, in the Miller case, the High Court ruled against the Secretary of State for Exiting the European Union on the question of whether notice could be given under Article 50 of the Treaty on European Union using the Royal prerogative. On December, the House of Commons votes 461 to 89 in favour of Theresa May's plan to trigger Article 50 by the end of March 2017.\n",
    "\n",
    "On March 2017, a letter from Theresa May is handed to President of the European Council Donald Tusk to invoke Article 50, starting a two-year process with the UK due to leave the EU on 29 March 2019. Brexit negotiations commence on 19 June. This also resulted in heated discussion on newspapers. The number of quotations reached the largest during 2017 period. We have noticed that the negative quotations increase from January to February. This can be seen as some people are against the Theresa May's Brexit plan. However, after the Theresa May's Brexit plan is handed to European Council, the positive goes up again.\n",
    "\n",
    "There is a noticeable increase from March 2018 to April 2019. Meanwhile, the negative quotation are steadily increase during this period. The background event is House of Commons passed the \"Leaving the European Union Act\", which was passed by the House of Lords in May and signed by the Queen of UK in June. According to the Act, the United Kingdom will withdraw from the European Union at 23:00 on March 29, 2019. The Brexit withdrawal agreement is published on 14 November. After the United Kingdom and the European Union reached a draft Brexit agreement, it caused strong dissatisfaction among opponents. The Brexit Minister Dominic Raab, who had been in office for only four months, resigned on the grounds of dissatisfaction with the draft. The Minister of Work and Pensions, Esther McVeigh, and two other deputy ministerial officials also resigned. Dominique Raab issued a statement saying that he cannot support the draft Brexit agreement \"without conscience.\" He criticized the content of the draft regarding the resolution of the Irish border issue and the continued presence of the United Kingdom in the EU Customs Union. He believed that this would not allow the United Kingdom to truly leave the European Union.\n",
    "\n"
   ]
  },
  {
   "cell_type": "code",
   "execution_count": null,
   "id": "569dc552-3470-405c-8b34-f01d1f7e4726",
   "metadata": {},
   "outputs": [],
   "source": []
  }
 ],
 "metadata": {
  "kernelspec": {
   "display_name": "Python 3 (ipykernel)",
   "language": "python",
   "name": "python3"
  },
  "language_info": {
   "codemirror_mode": {
    "name": "ipython",
    "version": 3
   },
   "file_extension": ".py",
   "mimetype": "text/x-python",
   "name": "python",
   "nbconvert_exporter": "python",
   "pygments_lexer": "ipython3",
   "version": "3.8.12"
  }
 },
 "nbformat": 4,
 "nbformat_minor": 5
}
